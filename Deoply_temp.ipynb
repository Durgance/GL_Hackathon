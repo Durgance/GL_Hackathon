{
 "cells": [
  {
   "cell_type": "code",
   "execution_count": 24,
   "metadata": {},
   "outputs": [],
   "source": [
    "import pandas as pd\n",
    "import numpy as np\n",
    "df = pd.read_csv(\"./Data/df_1.csv\")\n",
    "df = df.iloc[: , 1:]\n",
    "categorical_cols = []\n",
    "numerical_cols = []\n",
    "label_col = [\"SalePrice\"]\n",
    "# Alley, FireplaceQu, PoolQC, Fence, MiscFeature have too much null\n",
    "# Id has too many categories\n",
    "# Utilities, Condition2, RoofMatl, Heating has one weak categories and binary, shoud be discarted\n",
    "discarted_cols = [\"Id\", \"Alley\",\"FireplaceQu\",\"PoolQC\",\"Fence\",\"MiscFeature\",\"Utilities\",\"Condition2\",\"RoofMatl\",\"Heating\"]"
   ]
  },
  {
   "cell_type": "code",
   "execution_count": 25,
   "metadata": {},
   "outputs": [],
   "source": [
    "categorical_cols = []\n",
    "numerical_cols = []\n",
    "\n",
    "def grab_cat_num_cols(dataframe):\n",
    "    for column in df.columns:\n",
    "        if (column not in label_col+discarted_cols):\n",
    "            if df[column].dtype == 'object':\n",
    "                categorical_cols.append(column)\n",
    "            else:\n",
    "                numerical_cols.append(column)\n",
    "\n",
    "    return categorical_cols, numerical_cols\n",
    "\n",
    "categorical_cols, numerical_cols = grab_cat_num_cols(df)"
   ]
  },
  {
   "cell_type": "code",
   "execution_count": 26,
   "metadata": {},
   "outputs": [
    {
     "data": {
      "text/plain": [
       "34"
      ]
     },
     "execution_count": 26,
     "metadata": {},
     "output_type": "execute_result"
    }
   ],
   "source": [
    "len(categorical_cols)"
   ]
  },
  {
   "cell_type": "code",
   "execution_count": 27,
   "metadata": {},
   "outputs": [
    {
     "data": {
      "text/plain": [
       "36"
      ]
     },
     "execution_count": 27,
     "metadata": {},
     "output_type": "execute_result"
    }
   ],
   "source": [
    "len(numerical_cols)"
   ]
  },
  {
   "cell_type": "code",
   "execution_count": 37,
   "metadata": {},
   "outputs": [
    {
     "data": {
      "text/plain": [
       "['RL', 'RM', 'C (all)', 'FV', 'RH']"
      ]
     },
     "execution_count": 37,
     "metadata": {},
     "output_type": "execute_result"
    }
   ],
   "source": [
    "list(df[categorical_cols]['MSZoning'].unique())"
   ]
  },
  {
   "cell_type": "code",
   "execution_count": 47,
   "metadata": {},
   "outputs": [
    {
     "data": {
      "text/plain": [
       "count    1460.000000\n",
       "mean       56.897260\n",
       "std        42.300571\n",
       "min        20.000000\n",
       "25%        20.000000\n",
       "50%        50.000000\n",
       "75%        70.000000\n",
       "max       190.000000\n",
       "Name: MSSubClass, dtype: float64"
      ]
     },
     "execution_count": 47,
     "metadata": {},
     "output_type": "execute_result"
    }
   ],
   "source": [
    "df[numerical_cols]['MSSubClass'].describe()"
   ]
  },
  {
   "cell_type": "code",
   "execution_count": null,
   "metadata": {},
   "outputs": [],
   "source": []
  }
 ],
 "metadata": {
  "kernelspec": {
   "display_name": "Python 3",
   "language": "python",
   "name": "python3"
  },
  "language_info": {
   "codemirror_mode": {
    "name": "ipython",
    "version": 3
   },
   "file_extension": ".py",
   "mimetype": "text/x-python",
   "name": "python",
   "nbconvert_exporter": "python",
   "pygments_lexer": "ipython3",
   "version": "3.10.12"
  }
 },
 "nbformat": 4,
 "nbformat_minor": 2
}

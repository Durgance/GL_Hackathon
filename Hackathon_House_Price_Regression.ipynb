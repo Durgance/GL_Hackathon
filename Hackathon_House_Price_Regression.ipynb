{
  "cells": [
    {
      "cell_type": "code",
      "execution_count": 1,
      "metadata": {
        "colab": {
          "base_uri": "https://localhost:8080/"
        },
        "id": "fGtiGnq0hVKM",
        "outputId": "45812ee6-f30d-4014-f7ce-21f0ce8e32fa"
      },
      "outputs": [
        {
          "name": "stdout",
          "output_type": "stream",
          "text": [
            "\u001b[33m\r0% [Working]\u001b[0m\r            \rGet:1 https://cloud.r-project.org/bin/linux/ubuntu jammy-cran40/ InRelease [3,626 B]\n",
            "\u001b[33m\r0% [Waiting for headers] [Connecting to security.ubuntu.com (185.125.190.39)] [\u001b[0m\u001b[33m\r0% [Waiting for headers] [Connecting to security.ubuntu.com (185.125.190.39)] [\u001b[0m\r                                                                               \rHit:2 https://developer.download.nvidia.com/compute/cuda/repos/ubuntu2204/x86_64  InRelease\n",
            "\u001b[33m\r0% [Waiting for headers] [Connecting to security.ubuntu.com (185.125.190.39)] [\u001b[0m\r                                                                               \rHit:3 http://archive.ubuntu.com/ubuntu jammy InRelease\n",
            "Get:4 http://archive.ubuntu.com/ubuntu jammy-updates InRelease [119 kB]\n",
            "Get:5 http://security.ubuntu.com/ubuntu jammy-security InRelease [110 kB]\n",
            "Get:6 https://cloud.r-project.org/bin/linux/ubuntu jammy-cran40/ Packages [48.6 kB]\n",
            "Hit:7 http://archive.ubuntu.com/ubuntu jammy-backports InRelease\n",
            "Get:8 http://archive.ubuntu.com/ubuntu jammy-updates/universe amd64 Packages [1,305 kB]\n",
            "Get:9 https://ppa.launchpadcontent.net/c2d4u.team/c2d4u4.0+/ubuntu jammy InRelease [18.1 kB]\n",
            "Hit:10 https://ppa.launchpadcontent.net/deadsnakes/ppa/ubuntu jammy InRelease\n",
            "Get:11 http://archive.ubuntu.com/ubuntu jammy-updates/main amd64 Packages [1,599 kB]\n",
            "Get:12 http://security.ubuntu.com/ubuntu jammy-security/universe amd64 Packages [1,046 kB]\n",
            "Hit:13 https://ppa.launchpadcontent.net/graphics-drivers/ppa/ubuntu jammy InRelease\n",
            "Hit:14 https://ppa.launchpadcontent.net/ubuntugis/ppa/ubuntu jammy InRelease\n",
            "Get:15 https://ppa.launchpadcontent.net/c2d4u.team/c2d4u4.0+/ubuntu jammy/main Sources [2,247 kB]\n",
            "Get:16 http://security.ubuntu.com/ubuntu jammy-security/main amd64 Packages [1,326 kB]\n",
            "Get:17 https://ppa.launchpadcontent.net/c2d4u.team/c2d4u4.0+/ubuntu jammy/main amd64 Packages [1,153 kB]\n",
            "Fetched 8,976 kB in 2s (3,769 kB/s)\n",
            "Reading package lists... Done\n",
            "Building dependency tree... Done\n",
            "Reading state information... Done\n",
            "36 packages can be upgraded. Run 'apt list --upgradable' to see them.\n"
          ]
        }
      ],
      "source": [
        "!sudo apt update"
      ]
    },
    {
      "cell_type": "code",
      "execution_count": 2,
      "metadata": {
        "colab": {
          "base_uri": "https://localhost:8080/"
        },
        "id": "_H2Gem6mhZY7",
        "outputId": "1beef6ef-01ea-4a3f-b9e3-b245ab1ab1e8"
      },
      "outputs": [
        {
          "name": "stdout",
          "output_type": "stream",
          "text": [
            "Reading package lists... Done\n",
            "Building dependency tree... Done\n",
            "Reading state information... Done\n",
            "The following additional packages will be installed:\n",
            "  libxtst6 openjdk-8-jre-headless\n",
            "Suggested packages:\n",
            "  openjdk-8-demo openjdk-8-source libnss-mdns fonts-dejavu-extra fonts-nanum fonts-ipafont-gothic\n",
            "  fonts-ipafont-mincho fonts-wqy-microhei fonts-wqy-zenhei fonts-indic\n",
            "The following NEW packages will be installed:\n",
            "  libxtst6 openjdk-8-jdk-headless openjdk-8-jre-headless\n",
            "0 upgraded, 3 newly installed, 0 to remove and 36 not upgraded.\n",
            "Need to get 39.7 MB of archives.\n",
            "After this operation, 144 MB of additional disk space will be used.\n",
            "Get:1 http://archive.ubuntu.com/ubuntu jammy/main amd64 libxtst6 amd64 2:1.2.3-1build4 [13.4 kB]\n",
            "Get:2 http://archive.ubuntu.com/ubuntu jammy-updates/universe amd64 openjdk-8-jre-headless amd64 8u392-ga-1~22.04 [30.8 MB]\n",
            "Get:3 http://archive.ubuntu.com/ubuntu jammy-updates/universe amd64 openjdk-8-jdk-headless amd64 8u392-ga-1~22.04 [8,863 kB]\n",
            "Fetched 39.7 MB in 1s (26.9 MB/s)\n",
            "Selecting previously unselected package libxtst6:amd64.\n",
            "(Reading database ... 121658 files and directories currently installed.)\n",
            "Preparing to unpack .../libxtst6_2%3a1.2.3-1build4_amd64.deb ...\n",
            "Unpacking libxtst6:amd64 (2:1.2.3-1build4) ...\n",
            "Selecting previously unselected package openjdk-8-jre-headless:amd64.\n",
            "Preparing to unpack .../openjdk-8-jre-headless_8u392-ga-1~22.04_amd64.deb ...\n",
            "Unpacking openjdk-8-jre-headless:amd64 (8u392-ga-1~22.04) ...\n",
            "Selecting previously unselected package openjdk-8-jdk-headless:amd64.\n",
            "Preparing to unpack .../openjdk-8-jdk-headless_8u392-ga-1~22.04_amd64.deb ...\n",
            "Unpacking openjdk-8-jdk-headless:amd64 (8u392-ga-1~22.04) ...\n",
            "Setting up libxtst6:amd64 (2:1.2.3-1build4) ...\n",
            "Setting up openjdk-8-jre-headless:amd64 (8u392-ga-1~22.04) ...\n",
            "update-alternatives: using /usr/lib/jvm/java-8-openjdk-amd64/jre/bin/orbd to provide /usr/bin/orbd (orbd) in auto mode\n",
            "update-alternatives: using /usr/lib/jvm/java-8-openjdk-amd64/jre/bin/servertool to provide /usr/bin/servertool (servertool) in auto mode\n",
            "update-alternatives: using /usr/lib/jvm/java-8-openjdk-amd64/jre/bin/tnameserv to provide /usr/bin/tnameserv (tnameserv) in auto mode\n",
            "Setting up openjdk-8-jdk-headless:amd64 (8u392-ga-1~22.04) ...\n",
            "update-alternatives: using /usr/lib/jvm/java-8-openjdk-amd64/bin/clhsdb to provide /usr/bin/clhsdb (clhsdb) in auto mode\n",
            "update-alternatives: using /usr/lib/jvm/java-8-openjdk-amd64/bin/extcheck to provide /usr/bin/extcheck (extcheck) in auto mode\n",
            "update-alternatives: using /usr/lib/jvm/java-8-openjdk-amd64/bin/hsdb to provide /usr/bin/hsdb (hsdb) in auto mode\n",
            "update-alternatives: using /usr/lib/jvm/java-8-openjdk-amd64/bin/idlj to provide /usr/bin/idlj (idlj) in auto mode\n",
            "update-alternatives: using /usr/lib/jvm/java-8-openjdk-amd64/bin/javah to provide /usr/bin/javah (javah) in auto mode\n",
            "update-alternatives: using /usr/lib/jvm/java-8-openjdk-amd64/bin/jhat to provide /usr/bin/jhat (jhat) in auto mode\n",
            "update-alternatives: using /usr/lib/jvm/java-8-openjdk-amd64/bin/jsadebugd to provide /usr/bin/jsadebugd (jsadebugd) in auto mode\n",
            "update-alternatives: using /usr/lib/jvm/java-8-openjdk-amd64/bin/native2ascii to provide /usr/bin/native2ascii (native2ascii) in auto mode\n",
            "update-alternatives: using /usr/lib/jvm/java-8-openjdk-amd64/bin/schemagen to provide /usr/bin/schemagen (schemagen) in auto mode\n",
            "update-alternatives: using /usr/lib/jvm/java-8-openjdk-amd64/bin/wsgen to provide /usr/bin/wsgen (wsgen) in auto mode\n",
            "update-alternatives: using /usr/lib/jvm/java-8-openjdk-amd64/bin/wsimport to provide /usr/bin/wsimport (wsimport) in auto mode\n",
            "update-alternatives: using /usr/lib/jvm/java-8-openjdk-amd64/bin/xjc to provide /usr/bin/xjc (xjc) in auto mode\n",
            "Processing triggers for libc-bin (2.35-0ubuntu3.4) ...\n",
            "/sbin/ldconfig.real: /usr/local/lib/libtbbbind.so.3 is not a symbolic link\n",
            "\n",
            "/sbin/ldconfig.real: /usr/local/lib/libtbbbind_2_5.so.3 is not a symbolic link\n",
            "\n",
            "/sbin/ldconfig.real: /usr/local/lib/libtbbmalloc.so.2 is not a symbolic link\n",
            "\n",
            "/sbin/ldconfig.real: /usr/local/lib/libtbbbind_2_0.so.3 is not a symbolic link\n",
            "\n",
            "/sbin/ldconfig.real: /usr/local/lib/libtbb.so.12 is not a symbolic link\n",
            "\n",
            "/sbin/ldconfig.real: /usr/local/lib/libtbbmalloc_proxy.so.2 is not a symbolic link\n",
            "\n"
          ]
        }
      ],
      "source": [
        "!apt-get install openjdk-8-jdk-headless"
      ]
    },
    {
      "cell_type": "code",
      "execution_count": 3,
      "metadata": {
        "colab": {
          "base_uri": "https://localhost:8080/"
        },
        "id": "GNl9KCWVhcrg",
        "outputId": "360b6703-67e4-4584-95a6-146ffc99916b"
      },
      "outputs": [
        {
          "name": "stdout",
          "output_type": "stream",
          "text": [
            "--2023-12-25 06:35:17--  https://archive.apache.org/dist/spark/spark-3.3.1/spark-3.3.1-bin-hadoop3.tgz\n",
            "Resolving archive.apache.org (archive.apache.org)... 65.108.204.189, 2a01:4f9:1a:a084::2\n",
            "Connecting to archive.apache.org (archive.apache.org)|65.108.204.189|:443... connected.\n",
            "HTTP request sent, awaiting response... 200 OK\n",
            "Length: 299350810 (285M) [application/x-gzip]\n",
            "Saving to: ‘spark-3.3.1-bin-hadoop3.tgz’\n",
            "\n",
            "spark-3.3.1-bin-had 100%[===================>] 285.48M  18.5MB/s    in 16s     \n",
            "\n",
            "2023-12-25 06:35:34 (17.4 MB/s) - ‘spark-3.3.1-bin-hadoop3.tgz’ saved [299350810/299350810]\n",
            "\n"
          ]
        }
      ],
      "source": [
        "!wget -v https://archive.apache.org/dist/spark/spark-3.3.1/spark-3.3.1-bin-hadoop3.tgz"
      ]
    },
    {
      "cell_type": "code",
      "execution_count": 4,
      "metadata": {
        "colab": {
          "base_uri": "https://localhost:8080/"
        },
        "id": "YbZ7Cy5Nhe26",
        "outputId": "994531c9-67e2-4b73-bdf6-4a0d3a14759e"
      },
      "outputs": [
        {
          "name": "stdout",
          "output_type": "stream",
          "text": [
            "sample_data  spark-3.3.1-bin-hadoop3.tgz  train.csv\n"
          ]
        }
      ],
      "source": [
        "!ls"
      ]
    },
    {
      "cell_type": "code",
      "execution_count": 5,
      "metadata": {
        "id": "EBgsPhHBhjHj"
      },
      "outputs": [],
      "source": [
        "!tar xf spark-3.3.1-bin-hadoop3.tgz"
      ]
    },
    {
      "cell_type": "code",
      "execution_count": 6,
      "metadata": {
        "colab": {
          "base_uri": "https://localhost:8080/"
        },
        "id": "eGdnxCIkhlUf",
        "outputId": "f615b781-eae1-4bb8-cf26-c8514c0ee2a8"
      },
      "outputs": [
        {
          "name": "stdout",
          "output_type": "stream",
          "text": [
            "java-1.11.0-openjdk-amd64  java-11-openjdk-amd64  java-1.8.0-openjdk-amd64  java-8-openjdk-amd64\n"
          ]
        }
      ],
      "source": [
        "!ls /usr/lib/jvm/"
      ]
    },
    {
      "cell_type": "code",
      "execution_count": 7,
      "metadata": {
        "colab": {
          "base_uri": "https://localhost:8080/"
        },
        "id": "2oXH_3HnhoEN",
        "outputId": "a29c7415-7d4b-4903-95d1-1023c34445ea"
      },
      "outputs": [
        {
          "name": "stdout",
          "output_type": "stream",
          "text": [
            "bin   data\tjars\t    LICENSE   NOTICE  R\t\t RELEASE  yarn\n",
            "conf  examples\tkubernetes  licenses  python  README.md  sbin\n"
          ]
        }
      ],
      "source": [
        "!ls /content/spark-3.3.1-bin-hadoop3"
      ]
    },
    {
      "cell_type": "code",
      "execution_count": 8,
      "metadata": {
        "id": "_7N9bG2whqfc"
      },
      "outputs": [],
      "source": [
        "import os\n",
        "os.environ[\"JAVA_HOME\"]=\"/usr/lib/jvm/java-8-openjdk-amd64\"\n",
        "os.environ[\"SPARK_HOME\"]=\"/content/spark-3.3.1-bin-hadoop3\""
      ]
    },
    {
      "cell_type": "code",
      "execution_count": 9,
      "metadata": {
        "colab": {
          "base_uri": "https://localhost:8080/"
        },
        "id": "YdiqfNE3e_4a",
        "outputId": "45f3f326-c306-4eb7-d085-84b029c9899a"
      },
      "outputs": [
        {
          "name": "stdout",
          "output_type": "stream",
          "text": [
            "Collecting pyspark\n",
            "  Downloading pyspark-3.5.0.tar.gz (316.9 MB)\n",
            "\u001b[2K     \u001b[90m━━━━━━━━━━━━━━━━━━━━━━━━━━━━━━━━━━━━━━━━\u001b[0m \u001b[32m316.9/316.9 MB\u001b[0m \u001b[31m4.6 MB/s\u001b[0m eta \u001b[36m0:00:00\u001b[0m\n",
            "\u001b[?25h  Preparing metadata (setup.py) ... \u001b[?25l\u001b[?25hdone\n",
            "Collecting findspark\n",
            "  Downloading findspark-2.0.1-py2.py3-none-any.whl (4.4 kB)\n",
            "Requirement already satisfied: py4j==0.10.9.7 in /usr/local/lib/python3.10/dist-packages (from pyspark) (0.10.9.7)\n",
            "Building wheels for collected packages: pyspark\n",
            "  Building wheel for pyspark (setup.py) ... \u001b[?25l\u001b[?25hdone\n",
            "  Created wheel for pyspark: filename=pyspark-3.5.0-py2.py3-none-any.whl size=317425345 sha256=0eb9496b735545c746b77835d439bd65348532c5060043f5c1b2b467633de2d1\n",
            "  Stored in directory: /root/.cache/pip/wheels/41/4e/10/c2cf2467f71c678cfc8a6b9ac9241e5e44a01940da8fbb17fc\n",
            "Successfully built pyspark\n",
            "Installing collected packages: findspark, pyspark\n",
            "Successfully installed findspark-2.0.1 pyspark-3.5.0\n"
          ]
        }
      ],
      "source": [
        "!pip install pyspark findspark"
      ]
    },
    {
      "cell_type": "code",
      "execution_count": 9,
      "metadata": {
        "id": "rtqKl6P-gXA4"
      },
      "outputs": [],
      "source": []
    },
    {
      "cell_type": "code",
      "execution_count": 10,
      "metadata": {
        "id": "DxCMJOJ8gqXU"
      },
      "outputs": [],
      "source": [
        "import findspark\n",
        "findspark.init()"
      ]
    },
    {
      "cell_type": "code",
      "execution_count": 11,
      "metadata": {
        "colab": {
          "base_uri": "https://localhost:8080/",
          "height": 35
        },
        "id": "qi9t7dsBg0br",
        "outputId": "6869f8a7-346f-458a-deaa-502ff4674c3a"
      },
      "outputs": [
        {
          "data": {
            "application/vnd.google.colaboratory.intrinsic+json": {
              "type": "string"
            },
            "text/plain": [
              "'/content/spark-3.3.1-bin-hadoop3'"
            ]
          },
          "execution_count": 11,
          "metadata": {},
          "output_type": "execute_result"
        }
      ],
      "source": [
        "findspark.find()"
      ]
    },
    {
      "cell_type": "code",
      "execution_count": 12,
      "metadata": {
        "id": "344Sjvhag4r_"
      },
      "outputs": [],
      "source": [
        "from pyspark.sql import SparkSession\n",
        "spark = SparkSession.builder.appName('House_Price_Regression').getOrCreate()"
      ]
    },
    {
      "cell_type": "code",
      "execution_count": 13,
      "metadata": {
        "id": "PIFyDc4uhJrH"
      },
      "outputs": [],
      "source": [
        "import numpy as np\n",
        "import pandas as pd\n",
        "import matplotlib.pyplot as plt\n",
        "import seaborn as sns\n",
        "pd.set_option('display.max_columns', None)"
      ]
    },
    {
      "cell_type": "code",
      "execution_count": 14,
      "metadata": {
        "id": "asb3RtJRiCVi"
      },
      "outputs": [],
      "source": [
        "# Read the data into a Dataframe.\n",
        "from pyspark import SparkFiles\n",
        "df = spark.read.csv(SparkFiles.get('/content/train.csv'),inferSchema=True,header=True)"
      ]
    },
    {
      "cell_type": "code",
      "execution_count": 15,
      "metadata": {
        "colab": {
          "base_uri": "https://localhost:8080/"
        },
        "id": "YEhjFN9ci0i_",
        "outputId": "d8b74293-18ad-4650-ce42-52799b409417"
      },
      "outputs": [
        {
          "name": "stdout",
          "output_type": "stream",
          "text": [
            "+---+----------+--------+-----------+-------+------+-----+--------+-----------+---------+---------+---------+------------+----------+----------+--------+----------+-----------+-----------+---------+------------+---------+--------+-----------+-----------+----------+----------+---------+---------+----------+--------+--------+------------+------------+----------+------------+----------+---------+-----------+-------+---------+----------+----------+--------+--------+------------+---------+------------+------------+--------+--------+------------+------------+-----------+------------+----------+----------+-----------+----------+-----------+------------+----------+----------+----------+----------+----------+----------+-----------+-------------+---------+-----------+--------+------+-----+-----------+-------+------+------+--------+-------------+---------+\n",
            "|Id |MSSubClass|MSZoning|LotFrontage|LotArea|Street|Alley|LotShape|LandContour|Utilities|LotConfig|LandSlope|Neighborhood|Condition1|Condition2|BldgType|HouseStyle|OverallQual|OverallCond|YearBuilt|YearRemodAdd|RoofStyle|RoofMatl|Exterior1st|Exterior2nd|MasVnrType|MasVnrArea|ExterQual|ExterCond|Foundation|BsmtQual|BsmtCond|BsmtExposure|BsmtFinType1|BsmtFinSF1|BsmtFinType2|BsmtFinSF2|BsmtUnfSF|TotalBsmtSF|Heating|HeatingQC|CentralAir|Electrical|1stFlrSF|2ndFlrSF|LowQualFinSF|GrLivArea|BsmtFullBath|BsmtHalfBath|FullBath|HalfBath|BedroomAbvGr|KitchenAbvGr|KitchenQual|TotRmsAbvGrd|Functional|Fireplaces|FireplaceQu|GarageType|GarageYrBlt|GarageFinish|GarageCars|GarageArea|GarageQual|GarageCond|PavedDrive|WoodDeckSF|OpenPorchSF|EnclosedPorch|3SsnPorch|ScreenPorch|PoolArea|PoolQC|Fence|MiscFeature|MiscVal|MoSold|YrSold|SaleType|SaleCondition|SalePrice|\n",
            "+---+----------+--------+-----------+-------+------+-----+--------+-----------+---------+---------+---------+------------+----------+----------+--------+----------+-----------+-----------+---------+------------+---------+--------+-----------+-----------+----------+----------+---------+---------+----------+--------+--------+------------+------------+----------+------------+----------+---------+-----------+-------+---------+----------+----------+--------+--------+------------+---------+------------+------------+--------+--------+------------+------------+-----------+------------+----------+----------+-----------+----------+-----------+------------+----------+----------+----------+----------+----------+----------+-----------+-------------+---------+-----------+--------+------+-----+-----------+-------+------+------+--------+-------------+---------+\n",
            "|1  |60        |RL      |65         |8450   |Pave  |NA   |Reg     |Lvl        |AllPub   |Inside   |Gtl      |CollgCr     |Norm      |Norm      |1Fam    |2Story    |7          |5          |2003     |2003        |Gable    |CompShg |VinylSd    |VinylSd    |BrkFace   |196       |Gd       |TA       |PConc     |Gd      |TA      |No          |GLQ         |706       |Unf         |0         |150      |856        |GasA   |Ex       |Y         |SBrkr     |856     |854     |0           |1710     |1           |0           |2       |1       |3           |1           |Gd         |8           |Typ       |0         |NA         |Attchd    |2003       |RFn         |2         |548       |TA        |TA        |Y         |0         |61         |0            |0        |0          |0       |NA    |NA   |NA         |0      |2     |2008  |WD      |Normal       |208500   |\n",
            "|2  |20        |RL      |80         |9600   |Pave  |NA   |Reg     |Lvl        |AllPub   |FR2      |Gtl      |Veenker     |Feedr     |Norm      |1Fam    |1Story    |6          |8          |1976     |1976        |Gable    |CompShg |MetalSd    |MetalSd    |None      |0         |TA       |TA       |CBlock    |Gd      |TA      |Gd          |ALQ         |978       |Unf         |0         |284      |1262       |GasA   |Ex       |Y         |SBrkr     |1262    |0       |0           |1262     |0           |1           |2       |0       |3           |1           |TA         |6           |Typ       |1         |TA         |Attchd    |1976       |RFn         |2         |460       |TA        |TA        |Y         |298       |0          |0            |0        |0          |0       |NA    |NA   |NA         |0      |5     |2007  |WD      |Normal       |181500   |\n",
            "|3  |60        |RL      |68         |11250  |Pave  |NA   |IR1     |Lvl        |AllPub   |Inside   |Gtl      |CollgCr     |Norm      |Norm      |1Fam    |2Story    |7          |5          |2001     |2002        |Gable    |CompShg |VinylSd    |VinylSd    |BrkFace   |162       |Gd       |TA       |PConc     |Gd      |TA      |Mn          |GLQ         |486       |Unf         |0         |434      |920        |GasA   |Ex       |Y         |SBrkr     |920     |866     |0           |1786     |1           |0           |2       |1       |3           |1           |Gd         |6           |Typ       |1         |TA         |Attchd    |2001       |RFn         |2         |608       |TA        |TA        |Y         |0         |42         |0            |0        |0          |0       |NA    |NA   |NA         |0      |9     |2008  |WD      |Normal       |223500   |\n",
            "|4  |70        |RL      |60         |9550   |Pave  |NA   |IR1     |Lvl        |AllPub   |Corner   |Gtl      |Crawfor     |Norm      |Norm      |1Fam    |2Story    |7          |5          |1915     |1970        |Gable    |CompShg |Wd Sdng    |Wd Shng    |None      |0         |TA       |TA       |BrkTil    |TA      |Gd      |No          |ALQ         |216       |Unf         |0         |540      |756        |GasA   |Gd       |Y         |SBrkr     |961     |756     |0           |1717     |1           |0           |1       |0       |3           |1           |Gd         |7           |Typ       |1         |Gd         |Detchd    |1998       |Unf         |3         |642       |TA        |TA        |Y         |0         |35         |272          |0        |0          |0       |NA    |NA   |NA         |0      |2     |2006  |WD      |Abnorml      |140000   |\n",
            "|5  |60        |RL      |84         |14260  |Pave  |NA   |IR1     |Lvl        |AllPub   |FR2      |Gtl      |NoRidge     |Norm      |Norm      |1Fam    |2Story    |8          |5          |2000     |2000        |Gable    |CompShg |VinylSd    |VinylSd    |BrkFace   |350       |Gd       |TA       |PConc     |Gd      |TA      |Av          |GLQ         |655       |Unf         |0         |490      |1145       |GasA   |Ex       |Y         |SBrkr     |1145    |1053    |0           |2198     |1           |0           |2       |1       |4           |1           |Gd         |9           |Typ       |1         |TA         |Attchd    |2000       |RFn         |3         |836       |TA        |TA        |Y         |192       |84         |0            |0        |0          |0       |NA    |NA   |NA         |0      |12    |2008  |WD      |Normal       |250000   |\n",
            "+---+----------+--------+-----------+-------+------+-----+--------+-----------+---------+---------+---------+------------+----------+----------+--------+----------+-----------+-----------+---------+------------+---------+--------+-----------+-----------+----------+----------+---------+---------+----------+--------+--------+------------+------------+----------+------------+----------+---------+-----------+-------+---------+----------+----------+--------+--------+------------+---------+------------+------------+--------+--------+------------+------------+-----------+------------+----------+----------+-----------+----------+-----------+------------+----------+----------+----------+----------+----------+----------+-----------+-------------+---------+-----------+--------+------+-----+-----------+-------+------+------+--------+-------------+---------+\n",
            "only showing top 5 rows\n",
            "\n"
          ]
        }
      ],
      "source": [
        "df.show(5,False)"
      ]
    },
    {
      "cell_type": "code",
      "execution_count": 16,
      "metadata": {
        "colab": {
          "base_uri": "https://localhost:8080/"
        },
        "id": "IAFelEo8i3_G",
        "outputId": "a2035806-938a-40d3-c192-cb759c6c3a5d"
      },
      "outputs": [
        {
          "name": "stdout",
          "output_type": "stream",
          "text": [
            "root\n",
            " |-- Id: integer (nullable = true)\n",
            " |-- MSSubClass: integer (nullable = true)\n",
            " |-- MSZoning: string (nullable = true)\n",
            " |-- LotFrontage: string (nullable = true)\n",
            " |-- LotArea: integer (nullable = true)\n",
            " |-- Street: string (nullable = true)\n",
            " |-- Alley: string (nullable = true)\n",
            " |-- LotShape: string (nullable = true)\n",
            " |-- LandContour: string (nullable = true)\n",
            " |-- Utilities: string (nullable = true)\n",
            " |-- LotConfig: string (nullable = true)\n",
            " |-- LandSlope: string (nullable = true)\n",
            " |-- Neighborhood: string (nullable = true)\n",
            " |-- Condition1: string (nullable = true)\n",
            " |-- Condition2: string (nullable = true)\n",
            " |-- BldgType: string (nullable = true)\n",
            " |-- HouseStyle: string (nullable = true)\n",
            " |-- OverallQual: integer (nullable = true)\n",
            " |-- OverallCond: integer (nullable = true)\n",
            " |-- YearBuilt: integer (nullable = true)\n",
            " |-- YearRemodAdd: integer (nullable = true)\n",
            " |-- RoofStyle: string (nullable = true)\n",
            " |-- RoofMatl: string (nullable = true)\n",
            " |-- Exterior1st: string (nullable = true)\n",
            " |-- Exterior2nd: string (nullable = true)\n",
            " |-- MasVnrType: string (nullable = true)\n",
            " |-- MasVnrArea: string (nullable = true)\n",
            " |-- ExterQual: string (nullable = true)\n",
            " |-- ExterCond: string (nullable = true)\n",
            " |-- Foundation: string (nullable = true)\n",
            " |-- BsmtQual: string (nullable = true)\n",
            " |-- BsmtCond: string (nullable = true)\n",
            " |-- BsmtExposure: string (nullable = true)\n",
            " |-- BsmtFinType1: string (nullable = true)\n",
            " |-- BsmtFinSF1: integer (nullable = true)\n",
            " |-- BsmtFinType2: string (nullable = true)\n",
            " |-- BsmtFinSF2: integer (nullable = true)\n",
            " |-- BsmtUnfSF: integer (nullable = true)\n",
            " |-- TotalBsmtSF: integer (nullable = true)\n",
            " |-- Heating: string (nullable = true)\n",
            " |-- HeatingQC: string (nullable = true)\n",
            " |-- CentralAir: string (nullable = true)\n",
            " |-- Electrical: string (nullable = true)\n",
            " |-- 1stFlrSF: integer (nullable = true)\n",
            " |-- 2ndFlrSF: integer (nullable = true)\n",
            " |-- LowQualFinSF: integer (nullable = true)\n",
            " |-- GrLivArea: integer (nullable = true)\n",
            " |-- BsmtFullBath: integer (nullable = true)\n",
            " |-- BsmtHalfBath: integer (nullable = true)\n",
            " |-- FullBath: integer (nullable = true)\n",
            " |-- HalfBath: integer (nullable = true)\n",
            " |-- BedroomAbvGr: integer (nullable = true)\n",
            " |-- KitchenAbvGr: integer (nullable = true)\n",
            " |-- KitchenQual: string (nullable = true)\n",
            " |-- TotRmsAbvGrd: integer (nullable = true)\n",
            " |-- Functional: string (nullable = true)\n",
            " |-- Fireplaces: integer (nullable = true)\n",
            " |-- FireplaceQu: string (nullable = true)\n",
            " |-- GarageType: string (nullable = true)\n",
            " |-- GarageYrBlt: string (nullable = true)\n",
            " |-- GarageFinish: string (nullable = true)\n",
            " |-- GarageCars: integer (nullable = true)\n",
            " |-- GarageArea: integer (nullable = true)\n",
            " |-- GarageQual: string (nullable = true)\n",
            " |-- GarageCond: string (nullable = true)\n",
            " |-- PavedDrive: string (nullable = true)\n",
            " |-- WoodDeckSF: integer (nullable = true)\n",
            " |-- OpenPorchSF: integer (nullable = true)\n",
            " |-- EnclosedPorch: integer (nullable = true)\n",
            " |-- 3SsnPorch: integer (nullable = true)\n",
            " |-- ScreenPorch: integer (nullable = true)\n",
            " |-- PoolArea: integer (nullable = true)\n",
            " |-- PoolQC: string (nullable = true)\n",
            " |-- Fence: string (nullable = true)\n",
            " |-- MiscFeature: string (nullable = true)\n",
            " |-- MiscVal: integer (nullable = true)\n",
            " |-- MoSold: integer (nullable = true)\n",
            " |-- YrSold: integer (nullable = true)\n",
            " |-- SaleType: string (nullable = true)\n",
            " |-- SaleCondition: string (nullable = true)\n",
            " |-- SalePrice: integer (nullable = true)\n",
            "\n"
          ]
        }
      ],
      "source": [
        "df.printSchema()"
      ]
    },
    {
      "cell_type": "code",
      "execution_count": 17,
      "metadata": {
        "id": "lEITjq0Al4er"
      },
      "outputs": [],
      "source": [
        "import pyspark.sql.functions as F\n",
        "from pyspark.ml.feature import StringIndexer, OneHotEncoder, VectorAssembler, StandardScaler\n",
        "from pyspark.ml.regression import GBTRegressor\n",
        "from pyspark.ml import Pipeline\n",
        "from pyspark.ml.evaluation import RegressionEvaluator\n",
        "from pyspark.ml.tuning import ParamGridBuilder, CrossValidator"
      ]
    },
    {
      "cell_type": "code",
      "execution_count": 18,
      "metadata": {
        "colab": {
          "base_uri": "https://localhost:8080/"
        },
        "id": "9zc7R-9htTxt",
        "outputId": "d07325b2-c61d-433b-b1b5-0d191d4e5651"
      },
      "outputs": [
        {
          "name": "stdout",
          "output_type": "stream",
          "text": [
            "+-----------------+\n",
            "| avg(LotFrontage)|\n",
            "+-----------------+\n",
            "|70.04995836802665|\n",
            "+-----------------+\n",
            "\n"
          ]
        },
        {
          "data": {
            "text/plain": [
              "70.04995836802665"
            ]
          },
          "execution_count": 18,
          "metadata": {},
          "output_type": "execute_result"
        }
      ],
      "source": [
        "df.selectExpr(\"AVG(LotFrontage)\").show()\n",
        "df.selectExpr(\"AVG(LotFrontage)\").collect()[0][\"avg(LotFrontage)\"]"
      ]
    },
    {
      "cell_type": "code",
      "execution_count": 19,
      "metadata": {
        "id": "DWcggChBtcC2"
      },
      "outputs": [],
      "source": [
        "avg_LotFrontage = df.selectExpr(\"AVG(LotFrontage)\").collect()[0][\"avg(LotFrontage)\"]\n",
        "avg_MasVnrArea = df.selectExpr(\"AVG(MasVnrArea)\").collect()[0][\"avg(MasVnrArea)\"]\n",
        "avg_GarageYrBlt = df.selectExpr(\"AVG(GarageYrBlt)\").collect()[0][\"avg(GarageYrBlt)\"]\n",
        "\n",
        "df1 = df.withColumn(\"LotFrontage\", F.when(F.col(\"LotFrontage\") == 'NA', avg_LotFrontage).otherwise(F.col(\"LotFrontage\"))) \\\n",
        "        .withColumn(\"LotFrontage\", F.col(\"LotFrontage\").cast(\"int\")) \\\n",
        "        .withColumn(\"MasVnrArea\", F.when(F.col(\"MasVnrArea\") == 'NA', avg_MasVnrArea).otherwise(F.col(\"MasVnrArea\"))) \\\n",
        "        .withColumn(\"MasVnrArea\", F.col(\"MasVnrArea\").cast(\"int\")) \\\n",
        "        .withColumn(\"GarageYrBlt\", F.when(F.col(\"GarageYrBlt\") == 'NA', avg_GarageYrBlt).otherwise(F.col(\"GarageYrBlt\"))) \\\n",
        "        .withColumn(\"GarageYrBlt\", F.col(\"GarageYrBlt\").cast(\"int\"))"
      ]
    },
    {
      "cell_type": "code",
      "execution_count": 20,
      "metadata": {
        "colab": {
          "base_uri": "https://localhost:8080/"
        },
        "id": "IpKTlbw4tkXT",
        "outputId": "ecfe2c31-3c0f-4a53-aff8-2b117302676c"
      },
      "outputs": [
        {
          "name": "stdout",
          "output_type": "stream",
          "text": [
            "root\n",
            " |-- LotFrontage: string (nullable = true)\n",
            " |-- MasVnrArea: string (nullable = true)\n",
            " |-- GarageYrBlt: string (nullable = true)\n",
            "\n"
          ]
        }
      ],
      "source": [
        "df.select(\"LotFrontage\",\"MasVnrArea\",\"GarageYrBlt\").printSchema()"
      ]
    },
    {
      "cell_type": "code",
      "execution_count": 21,
      "metadata": {
        "colab": {
          "base_uri": "https://localhost:8080/"
        },
        "id": "G2fRORzVtmQS",
        "outputId": "69ac9555-0824-4d6a-e9cd-d7870249f188"
      },
      "outputs": [
        {
          "name": "stdout",
          "output_type": "stream",
          "text": [
            "root\n",
            " |-- LotFrontage: integer (nullable = true)\n",
            " |-- MasVnrArea: integer (nullable = true)\n",
            " |-- GarageYrBlt: integer (nullable = true)\n",
            "\n"
          ]
        }
      ],
      "source": [
        "df1.select(\"LotFrontage\",\"MasVnrArea\",\"GarageYrBlt\").printSchema()"
      ]
    },
    {
      "cell_type": "markdown",
      "metadata": {
        "id": "Nek2b1yatuai"
      },
      "source": [
        "### MISSING VALUE ANALYSIS"
      ]
    },
    {
      "cell_type": "code",
      "execution_count": 22,
      "metadata": {
        "colab": {
          "base_uri": "https://localhost:8080/",
          "height": 101
        },
        "id": "ZVdVFF4Ltsw8",
        "outputId": "571c7a3f-165f-4288-bd14-82ccd4640096"
      },
      "outputs": [
        {
          "data": {
            "text/html": [
              "\n",
              "  <div id=\"df-1369e54f-88b2-435d-a63f-95dc7ca79c31\" class=\"colab-df-container\">\n",
              "    <div>\n",
              "<style scoped>\n",
              "    .dataframe tbody tr th:only-of-type {\n",
              "        vertical-align: middle;\n",
              "    }\n",
              "\n",
              "    .dataframe tbody tr th {\n",
              "        vertical-align: top;\n",
              "    }\n",
              "\n",
              "    .dataframe thead th {\n",
              "        text-align: right;\n",
              "    }\n",
              "</style>\n",
              "<table border=\"1\" class=\"dataframe\">\n",
              "  <thead>\n",
              "    <tr style=\"text-align: right;\">\n",
              "      <th></th>\n",
              "      <th>Id</th>\n",
              "      <th>MSSubClass</th>\n",
              "      <th>MSZoning</th>\n",
              "      <th>LotFrontage</th>\n",
              "      <th>LotArea</th>\n",
              "      <th>Street</th>\n",
              "      <th>Alley</th>\n",
              "      <th>LotShape</th>\n",
              "      <th>LandContour</th>\n",
              "      <th>Utilities</th>\n",
              "      <th>LotConfig</th>\n",
              "      <th>LandSlope</th>\n",
              "      <th>Neighborhood</th>\n",
              "      <th>Condition1</th>\n",
              "      <th>Condition2</th>\n",
              "      <th>BldgType</th>\n",
              "      <th>HouseStyle</th>\n",
              "      <th>OverallQual</th>\n",
              "      <th>OverallCond</th>\n",
              "      <th>YearBuilt</th>\n",
              "      <th>YearRemodAdd</th>\n",
              "      <th>RoofStyle</th>\n",
              "      <th>RoofMatl</th>\n",
              "      <th>Exterior1st</th>\n",
              "      <th>Exterior2nd</th>\n",
              "      <th>MasVnrType</th>\n",
              "      <th>MasVnrArea</th>\n",
              "      <th>ExterQual</th>\n",
              "      <th>ExterCond</th>\n",
              "      <th>Foundation</th>\n",
              "      <th>BsmtQual</th>\n",
              "      <th>BsmtCond</th>\n",
              "      <th>BsmtExposure</th>\n",
              "      <th>BsmtFinType1</th>\n",
              "      <th>BsmtFinSF1</th>\n",
              "      <th>BsmtFinType2</th>\n",
              "      <th>BsmtFinSF2</th>\n",
              "      <th>BsmtUnfSF</th>\n",
              "      <th>TotalBsmtSF</th>\n",
              "      <th>Heating</th>\n",
              "      <th>HeatingQC</th>\n",
              "      <th>CentralAir</th>\n",
              "      <th>Electrical</th>\n",
              "      <th>1stFlrSF</th>\n",
              "      <th>2ndFlrSF</th>\n",
              "      <th>LowQualFinSF</th>\n",
              "      <th>GrLivArea</th>\n",
              "      <th>BsmtFullBath</th>\n",
              "      <th>BsmtHalfBath</th>\n",
              "      <th>FullBath</th>\n",
              "      <th>HalfBath</th>\n",
              "      <th>BedroomAbvGr</th>\n",
              "      <th>KitchenAbvGr</th>\n",
              "      <th>KitchenQual</th>\n",
              "      <th>TotRmsAbvGrd</th>\n",
              "      <th>Functional</th>\n",
              "      <th>Fireplaces</th>\n",
              "      <th>FireplaceQu</th>\n",
              "      <th>GarageType</th>\n",
              "      <th>GarageYrBlt</th>\n",
              "      <th>GarageFinish</th>\n",
              "      <th>GarageCars</th>\n",
              "      <th>GarageArea</th>\n",
              "      <th>GarageQual</th>\n",
              "      <th>GarageCond</th>\n",
              "      <th>PavedDrive</th>\n",
              "      <th>WoodDeckSF</th>\n",
              "      <th>OpenPorchSF</th>\n",
              "      <th>EnclosedPorch</th>\n",
              "      <th>3SsnPorch</th>\n",
              "      <th>ScreenPorch</th>\n",
              "      <th>PoolArea</th>\n",
              "      <th>PoolQC</th>\n",
              "      <th>Fence</th>\n",
              "      <th>MiscFeature</th>\n",
              "      <th>MiscVal</th>\n",
              "      <th>MoSold</th>\n",
              "      <th>YrSold</th>\n",
              "      <th>SaleType</th>\n",
              "      <th>SaleCondition</th>\n",
              "      <th>SalePrice</th>\n",
              "    </tr>\n",
              "  </thead>\n",
              "  <tbody>\n",
              "    <tr>\n",
              "      <th>0</th>\n",
              "      <td>0</td>\n",
              "      <td>0</td>\n",
              "      <td>0</td>\n",
              "      <td>0</td>\n",
              "      <td>0</td>\n",
              "      <td>0</td>\n",
              "      <td>0</td>\n",
              "      <td>0</td>\n",
              "      <td>0</td>\n",
              "      <td>0</td>\n",
              "      <td>0</td>\n",
              "      <td>0</td>\n",
              "      <td>0</td>\n",
              "      <td>0</td>\n",
              "      <td>0</td>\n",
              "      <td>0</td>\n",
              "      <td>0</td>\n",
              "      <td>0</td>\n",
              "      <td>0</td>\n",
              "      <td>0</td>\n",
              "      <td>0</td>\n",
              "      <td>0</td>\n",
              "      <td>0</td>\n",
              "      <td>0</td>\n",
              "      <td>0</td>\n",
              "      <td>0</td>\n",
              "      <td>0</td>\n",
              "      <td>0</td>\n",
              "      <td>0</td>\n",
              "      <td>0</td>\n",
              "      <td>0</td>\n",
              "      <td>0</td>\n",
              "      <td>0</td>\n",
              "      <td>0</td>\n",
              "      <td>0</td>\n",
              "      <td>0</td>\n",
              "      <td>0</td>\n",
              "      <td>0</td>\n",
              "      <td>0</td>\n",
              "      <td>0</td>\n",
              "      <td>0</td>\n",
              "      <td>0</td>\n",
              "      <td>0</td>\n",
              "      <td>0</td>\n",
              "      <td>0</td>\n",
              "      <td>0</td>\n",
              "      <td>0</td>\n",
              "      <td>0</td>\n",
              "      <td>0</td>\n",
              "      <td>0</td>\n",
              "      <td>0</td>\n",
              "      <td>0</td>\n",
              "      <td>0</td>\n",
              "      <td>0</td>\n",
              "      <td>0</td>\n",
              "      <td>0</td>\n",
              "      <td>0</td>\n",
              "      <td>0</td>\n",
              "      <td>0</td>\n",
              "      <td>0</td>\n",
              "      <td>0</td>\n",
              "      <td>0</td>\n",
              "      <td>0</td>\n",
              "      <td>0</td>\n",
              "      <td>0</td>\n",
              "      <td>0</td>\n",
              "      <td>0</td>\n",
              "      <td>0</td>\n",
              "      <td>0</td>\n",
              "      <td>0</td>\n",
              "      <td>0</td>\n",
              "      <td>0</td>\n",
              "      <td>0</td>\n",
              "      <td>0</td>\n",
              "      <td>0</td>\n",
              "      <td>0</td>\n",
              "      <td>0</td>\n",
              "      <td>0</td>\n",
              "      <td>0</td>\n",
              "      <td>0</td>\n",
              "      <td>0</td>\n",
              "    </tr>\n",
              "  </tbody>\n",
              "</table>\n",
              "</div>\n",
              "    <div class=\"colab-df-buttons\">\n",
              "\n",
              "  <div class=\"colab-df-container\">\n",
              "    <button class=\"colab-df-convert\" onclick=\"convertToInteractive('df-1369e54f-88b2-435d-a63f-95dc7ca79c31')\"\n",
              "            title=\"Convert this dataframe to an interactive table.\"\n",
              "            style=\"display:none;\">\n",
              "\n",
              "  <svg xmlns=\"http://www.w3.org/2000/svg\" height=\"24px\" viewBox=\"0 -960 960 960\">\n",
              "    <path d=\"M120-120v-720h720v720H120Zm60-500h600v-160H180v160Zm220 220h160v-160H400v160Zm0 220h160v-160H400v160ZM180-400h160v-160H180v160Zm440 0h160v-160H620v160ZM180-180h160v-160H180v160Zm440 0h160v-160H620v160Z\"/>\n",
              "  </svg>\n",
              "    </button>\n",
              "\n",
              "  <style>\n",
              "    .colab-df-container {\n",
              "      display:flex;\n",
              "      gap: 12px;\n",
              "    }\n",
              "\n",
              "    .colab-df-convert {\n",
              "      background-color: #E8F0FE;\n",
              "      border: none;\n",
              "      border-radius: 50%;\n",
              "      cursor: pointer;\n",
              "      display: none;\n",
              "      fill: #1967D2;\n",
              "      height: 32px;\n",
              "      padding: 0 0 0 0;\n",
              "      width: 32px;\n",
              "    }\n",
              "\n",
              "    .colab-df-convert:hover {\n",
              "      background-color: #E2EBFA;\n",
              "      box-shadow: 0px 1px 2px rgba(60, 64, 67, 0.3), 0px 1px 3px 1px rgba(60, 64, 67, 0.15);\n",
              "      fill: #174EA6;\n",
              "    }\n",
              "\n",
              "    .colab-df-buttons div {\n",
              "      margin-bottom: 4px;\n",
              "    }\n",
              "\n",
              "    [theme=dark] .colab-df-convert {\n",
              "      background-color: #3B4455;\n",
              "      fill: #D2E3FC;\n",
              "    }\n",
              "\n",
              "    [theme=dark] .colab-df-convert:hover {\n",
              "      background-color: #434B5C;\n",
              "      box-shadow: 0px 1px 3px 1px rgba(0, 0, 0, 0.15);\n",
              "      filter: drop-shadow(0px 1px 2px rgba(0, 0, 0, 0.3));\n",
              "      fill: #FFFFFF;\n",
              "    }\n",
              "  </style>\n",
              "\n",
              "    <script>\n",
              "      const buttonEl =\n",
              "        document.querySelector('#df-1369e54f-88b2-435d-a63f-95dc7ca79c31 button.colab-df-convert');\n",
              "      buttonEl.style.display =\n",
              "        google.colab.kernel.accessAllowed ? 'block' : 'none';\n",
              "\n",
              "      async function convertToInteractive(key) {\n",
              "        const element = document.querySelector('#df-1369e54f-88b2-435d-a63f-95dc7ca79c31');\n",
              "        const dataTable =\n",
              "          await google.colab.kernel.invokeFunction('convertToInteractive',\n",
              "                                                    [key], {});\n",
              "        if (!dataTable) return;\n",
              "\n",
              "        const docLinkHtml = 'Like what you see? Visit the ' +\n",
              "          '<a target=\"_blank\" href=https://colab.research.google.com/notebooks/data_table.ipynb>data table notebook</a>'\n",
              "          + ' to learn more about interactive tables.';\n",
              "        element.innerHTML = '';\n",
              "        dataTable['output_type'] = 'display_data';\n",
              "        await google.colab.output.renderOutput(dataTable, element);\n",
              "        const docLink = document.createElement('div');\n",
              "        docLink.innerHTML = docLinkHtml;\n",
              "        element.appendChild(docLink);\n",
              "      }\n",
              "    </script>\n",
              "  </div>\n",
              "\n",
              "\n",
              "    </div>\n",
              "  </div>\n"
            ],
            "text/plain": [
              "   Id  MSSubClass  MSZoning  LotFrontage  LotArea  Street  Alley  LotShape  \\\n",
              "0   0           0         0            0        0       0      0         0   \n",
              "\n",
              "   LandContour  Utilities  LotConfig  LandSlope  Neighborhood  Condition1  \\\n",
              "0            0          0          0          0             0           0   \n",
              "\n",
              "   Condition2  BldgType  HouseStyle  OverallQual  OverallCond  YearBuilt  \\\n",
              "0           0         0           0            0            0          0   \n",
              "\n",
              "   YearRemodAdd  RoofStyle  RoofMatl  Exterior1st  Exterior2nd  MasVnrType  \\\n",
              "0             0          0         0            0            0           0   \n",
              "\n",
              "   MasVnrArea  ExterQual  ExterCond  Foundation  BsmtQual  BsmtCond  \\\n",
              "0           0          0          0           0         0         0   \n",
              "\n",
              "   BsmtExposure  BsmtFinType1  BsmtFinSF1  BsmtFinType2  BsmtFinSF2  \\\n",
              "0             0             0           0             0           0   \n",
              "\n",
              "   BsmtUnfSF  TotalBsmtSF  Heating  HeatingQC  CentralAir  Electrical  \\\n",
              "0          0            0        0          0           0           0   \n",
              "\n",
              "   1stFlrSF  2ndFlrSF  LowQualFinSF  GrLivArea  BsmtFullBath  BsmtHalfBath  \\\n",
              "0         0         0             0          0             0             0   \n",
              "\n",
              "   FullBath  HalfBath  BedroomAbvGr  KitchenAbvGr  KitchenQual  TotRmsAbvGrd  \\\n",
              "0         0         0             0             0            0             0   \n",
              "\n",
              "   Functional  Fireplaces  FireplaceQu  GarageType  GarageYrBlt  GarageFinish  \\\n",
              "0           0           0            0           0            0             0   \n",
              "\n",
              "   GarageCars  GarageArea  GarageQual  GarageCond  PavedDrive  WoodDeckSF  \\\n",
              "0           0           0           0           0           0           0   \n",
              "\n",
              "   OpenPorchSF  EnclosedPorch  3SsnPorch  ScreenPorch  PoolArea  PoolQC  \\\n",
              "0            0              0          0            0         0       0   \n",
              "\n",
              "   Fence  MiscFeature  MiscVal  MoSold  YrSold  SaleType  SaleCondition  \\\n",
              "0      0            0        0       0       0         0              0   \n",
              "\n",
              "   SalePrice  \n",
              "0          0  "
            ]
          },
          "execution_count": 22,
          "metadata": {},
          "output_type": "execute_result"
        }
      ],
      "source": [
        "df1.select([F.count(F.when(F.isnan(c), c)).alias(c) for c in df1.columns]).toPandas()"
      ]
    },
    {
      "cell_type": "code",
      "execution_count": 23,
      "metadata": {
        "colab": {
          "base_uri": "https://localhost:8080/"
        },
        "id": "GFQw__XPtojq",
        "outputId": "fe6f02b0-7edd-499b-cfd5-5470936280f5"
      },
      "outputs": [
        {
          "data": {
            "text/plain": [
              "1369"
            ]
          },
          "execution_count": 23,
          "metadata": {},
          "output_type": "execute_result"
        }
      ],
      "source": [
        "def null_count(dataframe, col_name):\n",
        "    nc = dataframe.select(col_name).filter(\n",
        "        (F.col(col_name) == \"NA\") |\n",
        "        (F.col(col_name) == \"\") |\n",
        "        (F.col(col_name).isNull())\n",
        "    ).count()\n",
        "    return nc\n",
        "\n",
        "null_count(df1, \"Alley\")"
      ]
    },
    {
      "cell_type": "code",
      "execution_count": 24,
      "metadata": {
        "colab": {
          "base_uri": "https://localhost:8080/"
        },
        "id": "dnCSJbzUt7FL",
        "outputId": "97df2a23-fada-4c67-a6d1-6292b1f8ab4b"
      },
      "outputs": [
        {
          "name": "stdout",
          "output_type": "stream",
          "text": [
            "Alley ===> 1369 , Ratio: 93.77\n",
            "MasVnrType ===> 8 , Ratio: 0.55\n",
            "BsmtQual ===> 37 , Ratio: 2.53\n",
            "BsmtCond ===> 37 , Ratio: 2.53\n",
            "BsmtExposure ===> 38 , Ratio: 2.60\n",
            "BsmtFinType1 ===> 37 , Ratio: 2.53\n",
            "BsmtFinType2 ===> 38 , Ratio: 2.60\n",
            "Electrical ===> 1 , Ratio: 0.07\n",
            "FireplaceQu ===> 690 , Ratio: 47.26\n",
            "GarageType ===> 81 , Ratio: 5.55\n",
            "GarageFinish ===> 81 , Ratio: 5.55\n",
            "GarageQual ===> 81 , Ratio: 5.55\n",
            "GarageCond ===> 81 , Ratio: 5.55\n",
            "PoolQC ===> 1453 , Ratio: 99.52\n",
            "Fence ===> 1179 , Ratio: 80.75\n",
            "MiscFeature ===> 1406 , Ratio: 96.30\n"
          ]
        }
      ],
      "source": [
        "def show_all_null(dataframe):\n",
        "    for col_name in dataframe.dtypes:\n",
        "        nc = null_count(dataframe, col_name[0])\n",
        "        if nc > 0:\n",
        "            print(\"{} ===> {} , Ratio: {:.2f}\".format(col_name[0], nc, (nc/dataframe.count())*100))\n",
        "\n",
        "show_all_null(df1)"
      ]
    },
    {
      "cell_type": "markdown",
      "metadata": {
        "id": "uY0_xGleuK5B"
      },
      "source": [
        "### Analysis of Categorical and Numerical Variables"
      ]
    },
    {
      "cell_type": "code",
      "execution_count": 25,
      "metadata": {
        "id": "oGDSUWaPuEiO"
      },
      "outputs": [],
      "source": [
        "categorical_cols = []\n",
        "numerical_cols = []\n",
        "label_col = [\"SalePrice\"]\n",
        "# Alley, FireplaceQu, PoolQC, Fence, MiscFeature have too much null\n",
        "# Id has too many categories\n",
        "# Utilities, Condition2, RoofMatl, Heating has one weak categories and binary, shoud be discarted\n",
        "discarted_cols = [\"Id\", \"Alley\",\"FireplaceQu\",\"PoolQC\",\"Fence\",\"MiscFeature\",\"Utilities\",\"Condition2\",\"RoofMatl\",\"Heating\"]"
      ]
    },
    {
      "cell_type": "code",
      "execution_count": 26,
      "metadata": {
        "id": "8Ljs2YFZuOpz"
      },
      "outputs": [],
      "source": [
        "def grab_cat_num_cols(dataframe):\n",
        "    for col_name in dataframe.dtypes:\n",
        "        if (col_name[0] not in label_col+discarted_cols):\n",
        "            if col_name[1] == \"string\":\n",
        "                categorical_cols.append(col_name[0])\n",
        "            else:\n",
        "                numerical_cols.append(col_name[0])\n",
        "    return categorical_cols, numerical_cols"
      ]
    },
    {
      "cell_type": "code",
      "execution_count": 27,
      "metadata": {
        "colab": {
          "base_uri": "https://localhost:8080/"
        },
        "id": "qtbOcEJEuRdf",
        "outputId": "73c446f2-8914-49d7-d3e9-7385b03902b8"
      },
      "outputs": [
        {
          "name": "stdout",
          "output_type": "stream",
          "text": [
            "Observations: 1460\n",
            "Variables: 81\n",
            "Cat_cols: 34\n",
            "Num_cols: 36\n"
          ]
        }
      ],
      "source": [
        "categorical_cols, numerical_cols = grab_cat_num_cols(df1)\n",
        "\n",
        "#Print Categorical and Numerical Variables\n",
        "print(f\"Observations: {df1.count()}\")\n",
        "print(f\"Variables: {len(df1.columns)}\")\n",
        "print(f\"Cat_cols: {len(categorical_cols)}\")\n",
        "print(f\"Num_cols: {len(numerical_cols)}\")"
      ]
    },
    {
      "cell_type": "code",
      "execution_count": 28,
      "metadata": {
        "colab": {
          "base_uri": "https://localhost:8080/"
        },
        "id": "EN2mBxx3uSJz",
        "outputId": "faa52302-6c37-41a6-d9d6-325d7f0a3a04"
      },
      "outputs": [
        {
          "name": "stdout",
          "output_type": "stream",
          "text": [
            "column check is True\n"
          ]
        }
      ],
      "source": [
        "# column check\n",
        "if (len(df1.columns) == (len(label_col) + len(discarted_cols) + len(categorical_cols) + len(numerical_cols))):\n",
        "    print(\"column check is True\")\n",
        "else:\n",
        "    print(\"There is a problem for column check\")"
      ]
    },
    {
      "cell_type": "code",
      "execution_count": 30,
      "metadata": {
        "colab": {
          "base_uri": "https://localhost:8080/"
        },
        "id": "m57SzL5juTyP",
        "outputId": "41b18d31-727a-4190-c3c0-019f644bcfff"
      },
      "outputs": [
        {
          "name": "stdout",
          "output_type": "stream",
          "text": [
            "MSZoning\n",
            "+--------+-----+\n",
            "|MSZoning|count|\n",
            "+--------+-----+\n",
            "|      RL| 1151|\n",
            "|      RM|  218|\n",
            "|      FV|   65|\n",
            "|      RH|   16|\n",
            "| C (all)|   10|\n",
            "+--------+-----+\n",
            "\n",
            "Street\n",
            "+------+-----+\n",
            "|Street|count|\n",
            "+------+-----+\n",
            "|  Pave| 1454|\n",
            "|  Grvl|    6|\n",
            "+------+-----+\n",
            "\n",
            "LotShape\n",
            "+--------+-----+\n",
            "|LotShape|count|\n",
            "+--------+-----+\n",
            "|     Reg|  925|\n",
            "|     IR1|  484|\n",
            "|     IR2|   41|\n",
            "|     IR3|   10|\n",
            "+--------+-----+\n",
            "\n",
            "LandContour\n",
            "+-----------+-----+\n",
            "|LandContour|count|\n",
            "+-----------+-----+\n",
            "|        Lvl| 1311|\n",
            "|        Bnk|   63|\n",
            "|        HLS|   50|\n",
            "|        Low|   36|\n",
            "+-----------+-----+\n",
            "\n",
            "LotConfig\n",
            "+---------+-----+\n",
            "|LotConfig|count|\n",
            "+---------+-----+\n",
            "|   Inside| 1052|\n",
            "|   Corner|  263|\n",
            "|  CulDSac|   94|\n",
            "|      FR2|   47|\n",
            "|      FR3|    4|\n",
            "+---------+-----+\n",
            "\n",
            "LandSlope\n",
            "+---------+-----+\n",
            "|LandSlope|count|\n",
            "+---------+-----+\n",
            "|      Gtl| 1382|\n",
            "|      Mod|   65|\n",
            "|      Sev|   13|\n",
            "+---------+-----+\n",
            "\n",
            "Neighborhood\n",
            "+------------+-----+\n",
            "|Neighborhood|count|\n",
            "+------------+-----+\n",
            "|       NAmes|  225|\n",
            "|     CollgCr|  150|\n",
            "|     OldTown|  113|\n",
            "|     Edwards|  100|\n",
            "|     Somerst|   86|\n",
            "|     Gilbert|   79|\n",
            "|     NridgHt|   77|\n",
            "|      Sawyer|   74|\n",
            "|      NWAmes|   73|\n",
            "|     SawyerW|   59|\n",
            "|     BrkSide|   58|\n",
            "|     Crawfor|   51|\n",
            "|     Mitchel|   49|\n",
            "|     NoRidge|   41|\n",
            "|      Timber|   38|\n",
            "|      IDOTRR|   37|\n",
            "|     ClearCr|   28|\n",
            "|     StoneBr|   25|\n",
            "|       SWISU|   25|\n",
            "|     MeadowV|   17|\n",
            "+------------+-----+\n",
            "only showing top 20 rows\n",
            "\n",
            "Condition1\n",
            "+----------+-----+\n",
            "|Condition1|count|\n",
            "+----------+-----+\n",
            "|      Norm| 1260|\n",
            "|     Feedr|   81|\n",
            "|    Artery|   48|\n",
            "|      RRAn|   26|\n",
            "|      PosN|   19|\n",
            "|      RRAe|   11|\n",
            "|      PosA|    8|\n",
            "|      RRNn|    5|\n",
            "|      RRNe|    2|\n",
            "+----------+-----+\n",
            "\n",
            "BldgType\n",
            "+--------+-----+\n",
            "|BldgType|count|\n",
            "+--------+-----+\n",
            "|    1Fam| 1220|\n",
            "|  TwnhsE|  114|\n",
            "|  Duplex|   52|\n",
            "|   Twnhs|   43|\n",
            "|  2fmCon|   31|\n",
            "+--------+-----+\n",
            "\n",
            "HouseStyle\n",
            "+----------+-----+\n",
            "|HouseStyle|count|\n",
            "+----------+-----+\n",
            "|    1Story|  726|\n",
            "|    2Story|  445|\n",
            "|    1.5Fin|  154|\n",
            "|      SLvl|   65|\n",
            "|    SFoyer|   37|\n",
            "|    1.5Unf|   14|\n",
            "|    2.5Unf|   11|\n",
            "|    2.5Fin|    8|\n",
            "+----------+-----+\n",
            "\n",
            "RoofStyle\n",
            "+---------+-----+\n",
            "|RoofStyle|count|\n",
            "+---------+-----+\n",
            "|    Gable| 1141|\n",
            "|      Hip|  286|\n",
            "|     Flat|   13|\n",
            "|  Gambrel|   11|\n",
            "|  Mansard|    7|\n",
            "|     Shed|    2|\n",
            "+---------+-----+\n",
            "\n",
            "Exterior1st\n",
            "+-----------+-----+\n",
            "|Exterior1st|count|\n",
            "+-----------+-----+\n",
            "|    VinylSd|  515|\n",
            "|    HdBoard|  222|\n",
            "|    MetalSd|  220|\n",
            "|    Wd Sdng|  206|\n",
            "|    Plywood|  108|\n",
            "|    CemntBd|   61|\n",
            "|    BrkFace|   50|\n",
            "|    WdShing|   26|\n",
            "|     Stucco|   25|\n",
            "|    AsbShng|   20|\n",
            "|    BrkComm|    2|\n",
            "|      Stone|    2|\n",
            "|    AsphShn|    1|\n",
            "|    ImStucc|    1|\n",
            "|     CBlock|    1|\n",
            "+-----------+-----+\n",
            "\n",
            "Exterior2nd\n",
            "+-----------+-----+\n",
            "|Exterior2nd|count|\n",
            "+-----------+-----+\n",
            "|    VinylSd|  504|\n",
            "|    MetalSd|  214|\n",
            "|    HdBoard|  207|\n",
            "|    Wd Sdng|  197|\n",
            "|    Plywood|  142|\n",
            "|    CmentBd|   60|\n",
            "|    Wd Shng|   38|\n",
            "|     Stucco|   26|\n",
            "|    BrkFace|   25|\n",
            "|    AsbShng|   20|\n",
            "|    ImStucc|   10|\n",
            "|    Brk Cmn|    7|\n",
            "|      Stone|    5|\n",
            "|    AsphShn|    3|\n",
            "|      Other|    1|\n",
            "|     CBlock|    1|\n",
            "+-----------+-----+\n",
            "\n",
            "MasVnrType\n",
            "+----------+-----+\n",
            "|MasVnrType|count|\n",
            "+----------+-----+\n",
            "|      None|  864|\n",
            "|   BrkFace|  445|\n",
            "|     Stone|  128|\n",
            "|    BrkCmn|   15|\n",
            "|        NA|    8|\n",
            "+----------+-----+\n",
            "\n",
            "ExterQual\n",
            "+---------+-----+\n",
            "|ExterQual|count|\n",
            "+---------+-----+\n",
            "|       TA|  906|\n",
            "|       Gd|  488|\n",
            "|       Ex|   52|\n",
            "|       Fa|   14|\n",
            "+---------+-----+\n",
            "\n",
            "ExterCond\n",
            "+---------+-----+\n",
            "|ExterCond|count|\n",
            "+---------+-----+\n",
            "|       TA| 1282|\n",
            "|       Gd|  146|\n",
            "|       Fa|   28|\n",
            "|       Ex|    3|\n",
            "|       Po|    1|\n",
            "+---------+-----+\n",
            "\n",
            "Foundation\n",
            "+----------+-----+\n",
            "|Foundation|count|\n",
            "+----------+-----+\n",
            "|     PConc|  647|\n",
            "|    CBlock|  634|\n",
            "|    BrkTil|  146|\n",
            "|      Slab|   24|\n",
            "|     Stone|    6|\n",
            "|      Wood|    3|\n",
            "+----------+-----+\n",
            "\n",
            "BsmtQual\n",
            "+--------+-----+\n",
            "|BsmtQual|count|\n",
            "+--------+-----+\n",
            "|      TA|  649|\n",
            "|      Gd|  618|\n",
            "|      Ex|  121|\n",
            "|      NA|   37|\n",
            "|      Fa|   35|\n",
            "+--------+-----+\n",
            "\n",
            "BsmtCond\n",
            "+--------+-----+\n",
            "|BsmtCond|count|\n",
            "+--------+-----+\n",
            "|      TA| 1311|\n",
            "|      Gd|   65|\n",
            "|      Fa|   45|\n",
            "|      NA|   37|\n",
            "|      Po|    2|\n",
            "+--------+-----+\n",
            "\n",
            "BsmtExposure\n",
            "+------------+-----+\n",
            "|BsmtExposure|count|\n",
            "+------------+-----+\n",
            "|          No|  953|\n",
            "|          Av|  221|\n",
            "|          Gd|  134|\n",
            "|          Mn|  114|\n",
            "|          NA|   38|\n",
            "+------------+-----+\n",
            "\n",
            "BsmtFinType1\n",
            "+------------+-----+\n",
            "|BsmtFinType1|count|\n",
            "+------------+-----+\n",
            "|         Unf|  430|\n",
            "|         GLQ|  418|\n",
            "|         ALQ|  220|\n",
            "|         BLQ|  148|\n",
            "|         Rec|  133|\n",
            "|         LwQ|   74|\n",
            "|          NA|   37|\n",
            "+------------+-----+\n",
            "\n",
            "BsmtFinType2\n",
            "+------------+-----+\n",
            "|BsmtFinType2|count|\n",
            "+------------+-----+\n",
            "|         Unf| 1256|\n",
            "|         Rec|   54|\n",
            "|         LwQ|   46|\n",
            "|          NA|   38|\n",
            "|         BLQ|   33|\n",
            "|         ALQ|   19|\n",
            "|         GLQ|   14|\n",
            "+------------+-----+\n",
            "\n",
            "HeatingQC\n",
            "+---------+-----+\n",
            "|HeatingQC|count|\n",
            "+---------+-----+\n",
            "|       Ex|  741|\n",
            "|       TA|  428|\n",
            "|       Gd|  241|\n",
            "|       Fa|   49|\n",
            "|       Po|    1|\n",
            "+---------+-----+\n",
            "\n",
            "CentralAir\n",
            "+----------+-----+\n",
            "|CentralAir|count|\n",
            "+----------+-----+\n",
            "|         Y| 1365|\n",
            "|         N|   95|\n",
            "+----------+-----+\n",
            "\n",
            "Electrical\n",
            "+----------+-----+\n",
            "|Electrical|count|\n",
            "+----------+-----+\n",
            "|     SBrkr| 1334|\n",
            "|     FuseA|   94|\n",
            "|     FuseF|   27|\n",
            "|     FuseP|    3|\n",
            "|       Mix|    1|\n",
            "|        NA|    1|\n",
            "+----------+-----+\n",
            "\n",
            "KitchenQual\n",
            "+-----------+-----+\n",
            "|KitchenQual|count|\n",
            "+-----------+-----+\n",
            "|         TA|  735|\n",
            "|         Gd|  586|\n",
            "|         Ex|  100|\n",
            "|         Fa|   39|\n",
            "+-----------+-----+\n",
            "\n",
            "Functional\n",
            "+----------+-----+\n",
            "|Functional|count|\n",
            "+----------+-----+\n",
            "|       Typ| 1360|\n",
            "|      Min2|   34|\n",
            "|      Min1|   31|\n",
            "|       Mod|   15|\n",
            "|      Maj1|   14|\n",
            "|      Maj2|    5|\n",
            "|       Sev|    1|\n",
            "+----------+-----+\n",
            "\n",
            "GarageType\n",
            "+----------+-----+\n",
            "|GarageType|count|\n",
            "+----------+-----+\n",
            "|    Attchd|  870|\n",
            "|    Detchd|  387|\n",
            "|   BuiltIn|   88|\n",
            "|        NA|   81|\n",
            "|   Basment|   19|\n",
            "|   CarPort|    9|\n",
            "|    2Types|    6|\n",
            "+----------+-----+\n",
            "\n",
            "GarageFinish\n",
            "+------------+-----+\n",
            "|GarageFinish|count|\n",
            "+------------+-----+\n",
            "|         Unf|  605|\n",
            "|         RFn|  422|\n",
            "|         Fin|  352|\n",
            "|          NA|   81|\n",
            "+------------+-----+\n",
            "\n",
            "GarageQual\n",
            "+----------+-----+\n",
            "|GarageQual|count|\n",
            "+----------+-----+\n",
            "|        TA| 1311|\n",
            "|        NA|   81|\n",
            "|        Fa|   48|\n",
            "|        Gd|   14|\n",
            "|        Po|    3|\n",
            "|        Ex|    3|\n",
            "+----------+-----+\n",
            "\n",
            "GarageCond\n",
            "+----------+-----+\n",
            "|GarageCond|count|\n",
            "+----------+-----+\n",
            "|        TA| 1326|\n",
            "|        NA|   81|\n",
            "|        Fa|   35|\n",
            "|        Gd|    9|\n",
            "|        Po|    7|\n",
            "|        Ex|    2|\n",
            "+----------+-----+\n",
            "\n",
            "PavedDrive\n",
            "+----------+-----+\n",
            "|PavedDrive|count|\n",
            "+----------+-----+\n",
            "|         Y| 1340|\n",
            "|         N|   90|\n",
            "|         P|   30|\n",
            "+----------+-----+\n",
            "\n",
            "SaleType\n",
            "+--------+-----+\n",
            "|SaleType|count|\n",
            "+--------+-----+\n",
            "|      WD| 1267|\n",
            "|     New|  122|\n",
            "|     COD|   43|\n",
            "|   ConLD|    9|\n",
            "|   ConLI|    5|\n",
            "|   ConLw|    5|\n",
            "|     CWD|    4|\n",
            "|     Oth|    3|\n",
            "|     Con|    2|\n",
            "+--------+-----+\n",
            "\n",
            "SaleCondition\n",
            "+-------------+-----+\n",
            "|SaleCondition|count|\n",
            "+-------------+-----+\n",
            "|       Normal| 1198|\n",
            "|      Partial|  125|\n",
            "|      Abnorml|  101|\n",
            "|       Family|   20|\n",
            "|       Alloca|   12|\n",
            "|      AdjLand|    4|\n",
            "+-------------+-----+\n",
            "\n"
          ]
        }
      ],
      "source": [
        "def examine_categories(dataframe, cat_cols):\n",
        "    for cat_col in cat_cols:\n",
        "        print(cat_col)\n",
        "        dataframe.groupBy(cat_col).count().orderBy(F.desc(\"count\")).show()\n",
        "examine_categories(df1, categorical_cols)"
      ]
    },
    {
      "cell_type": "markdown",
      "metadata": {
        "id": "sY2cY7i5uqFa"
      },
      "source": [
        "### Encoding Scaling"
      ]
    },
    {
      "cell_type": "code",
      "execution_count": 31,
      "metadata": {
        "colab": {
          "base_uri": "https://localhost:8080/"
        },
        "id": "7GpmBY6vuVR3",
        "outputId": "81fe19cc-cf6d-4bf3-85de-ce1c64bfca93"
      },
      "outputs": [
        {
          "name": "stdout",
          "output_type": "stream",
          "text": [
            "['Street', 'CentralAir']\n"
          ]
        }
      ],
      "source": [
        "def find_binary_cols(dataframe, cat_cols):\n",
        "    binary_cols = dataframe.select([col for col in cat_cols if dataframe.select(col).dtypes[0][1] == \"string\" and dataframe.select(col).distinct().count() == 2])\n",
        "    return binary_cols\n",
        "binary_cols = find_binary_cols(df1, categorical_cols)\n",
        "print(binary_cols.columns)"
      ]
    },
    {
      "cell_type": "code",
      "execution_count": 32,
      "metadata": {
        "id": "Nch-yuOUux-3"
      },
      "outputs": [],
      "source": [
        "my_dict = {}\n",
        "string_indexer_objs = []\n",
        "string_indexer_output_names = []\n",
        "ohe_input_names = []\n",
        "ohe_output_names = []\n",
        "\n",
        "for col_name in categorical_cols:\n",
        "    my_dict[col_name+\"_index_obj\"] = StringIndexer() \\\n",
        "    .setHandleInvalid(\"skip\") \\\n",
        "    .setInputCol(col_name) \\\n",
        "    .setOutputCol(col_name+\"_indexed\")\n",
        "\n",
        "    string_indexer_objs.append(my_dict.get(col_name+\"_index_obj\"))\n",
        "    string_indexer_output_names.append(col_name+\"_indexed\")\n",
        "\n",
        "    if col_name not in binary_cols.columns:\n",
        "        ohe_input_names.append(col_name+\"_indexed\")\n",
        "        ohe_output_names.append(col_name+\"_ohe\")"
      ]
    },
    {
      "cell_type": "code",
      "execution_count": 33,
      "metadata": {
        "colab": {
          "base_uri": "https://localhost:8080/"
        },
        "id": "b75AlTBGu1Kn",
        "outputId": "eb085215-1501-4809-e036-526fbb01951f"
      },
      "outputs": [
        {
          "name": "stdout",
          "output_type": "stream",
          "text": [
            "['CentralAir_indexed', 'Street_indexed']\n"
          ]
        }
      ],
      "source": [
        "not_to_hot_coded = list(set(string_indexer_output_names).difference(set(ohe_input_names)))\n",
        "print(not_to_hot_coded)"
      ]
    },
    {
      "cell_type": "code",
      "execution_count": 34,
      "metadata": {
        "id": "A_u7zBUeu3ZL"
      },
      "outputs": [],
      "source": [
        "encoder = OneHotEncoder().setInputCols(ohe_input_names).setOutputCols(ohe_output_names)\n",
        "assembler = VectorAssembler().setHandleInvalid(\"skip\").setInputCols(numerical_cols + not_to_hot_coded + ohe_output_names).setOutputCol(\"unscaled_features\")\n",
        "scaler = StandardScaler().setInputCol(\"unscaled_features\").setOutputCol(\"features\")"
      ]
    },
    {
      "cell_type": "markdown",
      "metadata": {
        "id": "aofD7KALu-UT"
      },
      "source": [
        "### Create Model"
      ]
    },
    {
      "cell_type": "code",
      "execution_count": 36,
      "metadata": {
        "colab": {
          "base_uri": "https://localhost:8080/"
        },
        "id": "wsNxR58Iu9Qf",
        "outputId": "5df0824d-da5f-4299-e251-96d5cec3d0aa"
      },
      "outputs": [
        {
          "name": "stdout",
          "output_type": "stream",
          "text": [
            "1173 287\n"
          ]
        }
      ],
      "source": [
        "train_df, test_df = df1.randomSplit([0.8, 0.2],seed=123)\n",
        "print(train_df.count() , test_df.count())"
      ]
    },
    {
      "cell_type": "code",
      "execution_count": 37,
      "metadata": {
        "id": "N-YniJo-u7Ms"
      },
      "outputs": [],
      "source": [
        "estimator = GBTRegressor(labelCol=label_col[0])"
      ]
    },
    {
      "cell_type": "code",
      "execution_count": 38,
      "metadata": {
        "id": "MFQXuhLFvE3z"
      },
      "outputs": [],
      "source": [
        "pipeline_obj = Pipeline().setStages(string_indexer_objs + [encoder, assembler, scaler, estimator])"
      ]
    },
    {
      "cell_type": "code",
      "execution_count": 39,
      "metadata": {
        "id": "CrQ_OA7cvIz7"
      },
      "outputs": [],
      "source": [
        "pipeline_model = pipeline_obj.fit(train_df)"
      ]
    },
    {
      "cell_type": "code",
      "execution_count": 40,
      "metadata": {
        "colab": {
          "base_uri": "https://localhost:8080/"
        },
        "id": "MkQrqlnEvRo7",
        "outputId": "413d5031-9f9d-4948-a5b8-24f28258b805"
      },
      "outputs": [
        {
          "name": "stdout",
          "output_type": "stream",
          "text": [
            "+---------+------------------+\n",
            "|SalePrice|        prediction|\n",
            "+---------+------------------+\n",
            "|   208500|199454.99350961775|\n",
            "|   118000|133435.30500508426|\n",
            "|   144000|123030.55183542676|\n",
            "|   306000| 292914.6077456221|\n",
            "|   145000| 133690.4256254256|\n",
            "+---------+------------------+\n",
            "only showing top 5 rows\n",
            "\n"
          ]
        }
      ],
      "source": [
        "transform_df = pipeline_model.transform(test_df)\n",
        "transform_df.select(\"SalePrice\", \"prediction\").show(5)"
      ]
    },
    {
      "cell_type": "code",
      "execution_count": 41,
      "metadata": {
        "colab": {
          "base_uri": "https://localhost:8080/"
        },
        "id": "E9D4qpEFvUdC",
        "outputId": "8c3887dc-989a-4480-f550-a971b6094d17"
      },
      "outputs": [
        {
          "name": "stdout",
          "output_type": "stream",
          "text": [
            "R2:  0.7799317319977058\n"
          ]
        }
      ],
      "source": [
        "evaluator = RegressionEvaluator(labelCol=label_col[0], metricName=\"r2\")\n",
        "print(\"R2: \", evaluator.evaluate(transform_df))"
      ]
    },
    {
      "cell_type": "code",
      "execution_count": 42,
      "metadata": {
        "colab": {
          "base_uri": "https://localhost:8080/"
        },
        "id": "N-kqYxqFvWIL",
        "outputId": "50c9d095-3d6a-4071-98e2-e2a8f62237b2"
      },
      "outputs": [
        {
          "name": "stdout",
          "output_type": "stream",
          "text": [
            "RMSE:  38094.18207104816\n"
          ]
        }
      ],
      "source": [
        "evaluator = RegressionEvaluator(labelCol=label_col[0], metricName=\"rmse\")\n",
        "print(\"RMSE: \", evaluator.evaluate(transform_df))"
      ]
    },
    {
      "cell_type": "markdown",
      "metadata": {
        "id": "c9Ds8mKTvp9O"
      },
      "source": [
        "### Model Tuning"
      ]
    },
    {
      "cell_type": "code",
      "execution_count": 43,
      "metadata": {
        "id": "2gW7FogavpKT"
      },
      "outputs": [],
      "source": [
        "paramGrid = (ParamGridBuilder()\n",
        "             .addGrid(estimator.maxDepth, [2, 4, 6])\n",
        "             .addGrid(estimator.maxBins, [20, 30])\n",
        "             .addGrid(estimator.maxIter, [10, 20])\n",
        "             .build())\n",
        "cv = CrossValidator(estimator=pipeline_obj,\n",
        "                    estimatorParamMaps=paramGrid,\n",
        "                    evaluator=RegressionEvaluator(labelCol=label_col[0]),\n",
        "                    numFolds=3)"
      ]
    },
    {
      "cell_type": "code",
      "execution_count": 44,
      "metadata": {
        "id": "fLV-ph-LvoF7"
      },
      "outputs": [],
      "source": [
        "cv_model = cv.fit(train_df)"
      ]
    },
    {
      "cell_type": "code",
      "execution_count": 45,
      "metadata": {
        "colab": {
          "base_uri": "https://localhost:8080/"
        },
        "id": "rxFwRoFMw_7U",
        "outputId": "ecdecda6-9192-4b06-c8ce-79778a4de342"
      },
      "outputs": [
        {
          "name": "stdout",
          "output_type": "stream",
          "text": [
            "+---------+------------------+\n",
            "|SalePrice|        prediction|\n",
            "+---------+------------------+\n",
            "|   208500| 209975.6879057806|\n",
            "|   118000|131179.34286344174|\n",
            "|   144000| 138680.7501223167|\n",
            "|   306000| 275517.9969805246|\n",
            "|   145000|133468.36940850137|\n",
            "+---------+------------------+\n",
            "only showing top 5 rows\n",
            "\n"
          ]
        }
      ],
      "source": [
        "y_pred = cv_model.transform(test_df)\n",
        "y_pred.select(\"SalePrice\", \"prediction\").show(5)"
      ]
    },
    {
      "cell_type": "code",
      "execution_count": 46,
      "metadata": {
        "colab": {
          "base_uri": "https://localhost:8080/"
        },
        "id": "-RiGdXq5xB4I",
        "outputId": "01f447aa-8b5b-41f9-cd7a-08d2f0d3978f"
      },
      "outputs": [
        {
          "name": "stdout",
          "output_type": "stream",
          "text": [
            "R2:  0.7836155636072761\n"
          ]
        }
      ],
      "source": [
        "evaluator = RegressionEvaluator(labelCol=label_col[0], metricName=\"r2\")\n",
        "print(\"R2: \", evaluator.evaluate(y_pred))"
      ]
    },
    {
      "cell_type": "code",
      "execution_count": 47,
      "metadata": {
        "colab": {
          "base_uri": "https://localhost:8080/"
        },
        "id": "IyygdtG6xDO_",
        "outputId": "123a290f-2dad-4ed5-a12d-1d6e8e8d6c59"
      },
      "outputs": [
        {
          "name": "stdout",
          "output_type": "stream",
          "text": [
            "RMSE:  37773.99780571273\n"
          ]
        }
      ],
      "source": [
        "evaluator = RegressionEvaluator(labelCol=label_col[0], metricName=\"rmse\")\n",
        "print(\"RMSE: \", evaluator.evaluate(y_pred))"
      ]
    },
    {
      "cell_type": "code",
      "execution_count": 47,
      "metadata": {
        "id": "obdnhMW27_NS"
      },
      "outputs": [],
      "source": []
    },
    {
      "cell_type": "code",
      "execution_count": 51,
      "metadata": {
        "id": "iMy_vmqPxFDH"
      },
      "outputs": [],
      "source": [
        "from pyspark import SparkContext\n",
        "# sc = SparkContext()\n",
        "cv_model.save('./GBT_Reg_CV')"
      ]
    },
    {
      "cell_type": "code",
      "execution_count": 52,
      "metadata": {
        "colab": {
          "base_uri": "https://localhost:8080/"
        },
        "id": "2jXUAHRV8Z77",
        "outputId": "4a3fe367-e303-4400-e44c-1b800fc0867f"
      },
      "outputs": [
        {
          "name": "stdout",
          "output_type": "stream",
          "text": [
            "  adding: GBT_Reg_CV/ (stored 0%)\n",
            "  adding: GBT_Reg_CV/estimator/ (stored 0%)\n",
            "  adding: GBT_Reg_CV/estimator/metadata/ (stored 0%)\n",
            "  adding: GBT_Reg_CV/estimator/metadata/_SUCCESS (stored 0%)\n",
            "  adding: GBT_Reg_CV/estimator/metadata/.part-00000.crc (stored 0%)\n",
            "  adding: GBT_Reg_CV/estimator/metadata/._SUCCESS.crc (stored 0%)\n",
            "  adding: GBT_Reg_CV/estimator/metadata/part-00000 (deflated 58%)\n",
            "  adding: GBT_Reg_CV/estimator/stages/ (stored 0%)\n",
            "  adding: GBT_Reg_CV/estimator/stages/26_StringIndexer_2acc4bc87276/ (stored 0%)\n",
            "  adding: GBT_Reg_CV/estimator/stages/26_StringIndexer_2acc4bc87276/metadata/ (stored 0%)\n",
            "  adding: GBT_Reg_CV/estimator/stages/26_StringIndexer_2acc4bc87276/metadata/_SUCCESS (stored 0%)\n",
            "  adding: GBT_Reg_CV/estimator/stages/26_StringIndexer_2acc4bc87276/metadata/.part-00000.crc (stored 0%)\n",
            "  adding: GBT_Reg_CV/estimator/stages/26_StringIndexer_2acc4bc87276/metadata/._SUCCESS.crc (stored 0%)\n",
            "  adding: GBT_Reg_CV/estimator/stages/26_StringIndexer_2acc4bc87276/metadata/part-00000 (deflated 40%)\n",
            "  adding: GBT_Reg_CV/estimator/stages/36_StandardScaler_dc3a40464f70/ (stored 0%)\n",
            "  adding: GBT_Reg_CV/estimator/stages/36_StandardScaler_dc3a40464f70/metadata/ (stored 0%)\n",
            "  adding: GBT_Reg_CV/estimator/stages/36_StandardScaler_dc3a40464f70/metadata/_SUCCESS (stored 0%)\n",
            "  adding: GBT_Reg_CV/estimator/stages/36_StandardScaler_dc3a40464f70/metadata/.part-00000.crc (stored 0%)\n",
            "  adding: GBT_Reg_CV/estimator/stages/36_StandardScaler_dc3a40464f70/metadata/._SUCCESS.crc (stored 0%)\n",
            "  adding: GBT_Reg_CV/estimator/stages/36_StandardScaler_dc3a40464f70/metadata/part-00000 (deflated 39%)\n",
            "  adding: GBT_Reg_CV/estimator/stages/15_StringIndexer_271a29e51103/ (stored 0%)\n",
            "  adding: GBT_Reg_CV/estimator/stages/15_StringIndexer_271a29e51103/metadata/ (stored 0%)\n",
            "  adding: GBT_Reg_CV/estimator/stages/15_StringIndexer_271a29e51103/metadata/_SUCCESS (stored 0%)\n",
            "  adding: GBT_Reg_CV/estimator/stages/15_StringIndexer_271a29e51103/metadata/.part-00000.crc (stored 0%)\n",
            "  adding: GBT_Reg_CV/estimator/stages/15_StringIndexer_271a29e51103/metadata/._SUCCESS.crc (stored 0%)\n",
            "  adding: GBT_Reg_CV/estimator/stages/15_StringIndexer_271a29e51103/metadata/part-00000 (deflated 39%)\n",
            "  adding: GBT_Reg_CV/estimator/stages/14_StringIndexer_3772c717e24e/ (stored 0%)\n",
            "  adding: GBT_Reg_CV/estimator/stages/14_StringIndexer_3772c717e24e/metadata/ (stored 0%)\n",
            "  adding: GBT_Reg_CV/estimator/stages/14_StringIndexer_3772c717e24e/metadata/_SUCCESS (stored 0%)\n",
            "  adding: GBT_Reg_CV/estimator/stages/14_StringIndexer_3772c717e24e/metadata/.part-00000.crc (stored 0%)\n",
            "  adding: GBT_Reg_CV/estimator/stages/14_StringIndexer_3772c717e24e/metadata/._SUCCESS.crc (stored 0%)\n",
            "  adding: GBT_Reg_CV/estimator/stages/14_StringIndexer_3772c717e24e/metadata/part-00000 (deflated 40%)\n",
            "  adding: GBT_Reg_CV/estimator/stages/17_StringIndexer_1313b130f892/ (stored 0%)\n",
            "  adding: GBT_Reg_CV/estimator/stages/17_StringIndexer_1313b130f892/metadata/ (stored 0%)\n",
            "  adding: GBT_Reg_CV/estimator/stages/17_StringIndexer_1313b130f892/metadata/_SUCCESS (stored 0%)\n",
            "  adding: GBT_Reg_CV/estimator/stages/17_StringIndexer_1313b130f892/metadata/.part-00000.crc (stored 0%)\n",
            "  adding: GBT_Reg_CV/estimator/stages/17_StringIndexer_1313b130f892/metadata/._SUCCESS.crc (stored 0%)\n",
            "  adding: GBT_Reg_CV/estimator/stages/17_StringIndexer_1313b130f892/metadata/part-00000 (deflated 39%)\n",
            "  adding: GBT_Reg_CV/estimator/stages/00_StringIndexer_075dd713625d/ (stored 0%)\n",
            "  adding: GBT_Reg_CV/estimator/stages/00_StringIndexer_075dd713625d/metadata/ (stored 0%)\n",
            "  adding: GBT_Reg_CV/estimator/stages/00_StringIndexer_075dd713625d/metadata/_SUCCESS (stored 0%)\n",
            "  adding: GBT_Reg_CV/estimator/stages/00_StringIndexer_075dd713625d/metadata/.part-00000.crc (stored 0%)\n",
            "  adding: GBT_Reg_CV/estimator/stages/00_StringIndexer_075dd713625d/metadata/._SUCCESS.crc (stored 0%)\n",
            "  adding: GBT_Reg_CV/estimator/stages/00_StringIndexer_075dd713625d/metadata/part-00000 (deflated 39%)\n",
            "  adding: GBT_Reg_CV/estimator/stages/04_StringIndexer_5ea8b8288122/ (stored 0%)\n",
            "  adding: GBT_Reg_CV/estimator/stages/04_StringIndexer_5ea8b8288122/metadata/ (stored 0%)\n",
            "  adding: GBT_Reg_CV/estimator/stages/04_StringIndexer_5ea8b8288122/metadata/_SUCCESS (stored 0%)\n",
            "  adding: GBT_Reg_CV/estimator/stages/04_StringIndexer_5ea8b8288122/metadata/.part-00000.crc (stored 0%)\n",
            "  adding: GBT_Reg_CV/estimator/stages/04_StringIndexer_5ea8b8288122/metadata/._SUCCESS.crc (stored 0%)\n",
            "  adding: GBT_Reg_CV/estimator/stages/04_StringIndexer_5ea8b8288122/metadata/part-00000 (deflated 39%)\n",
            "  adding: GBT_Reg_CV/estimator/stages/16_StringIndexer_08dd415ce0b2/ (stored 0%)\n",
            "  adding: GBT_Reg_CV/estimator/stages/16_StringIndexer_08dd415ce0b2/metadata/ (stored 0%)\n",
            "  adding: GBT_Reg_CV/estimator/stages/16_StringIndexer_08dd415ce0b2/metadata/_SUCCESS (stored 0%)\n",
            "  adding: GBT_Reg_CV/estimator/stages/16_StringIndexer_08dd415ce0b2/metadata/.part-00000.crc (stored 0%)\n",
            "  adding: GBT_Reg_CV/estimator/stages/16_StringIndexer_08dd415ce0b2/metadata/._SUCCESS.crc (stored 0%)\n",
            "  adding: GBT_Reg_CV/estimator/stages/16_StringIndexer_08dd415ce0b2/metadata/part-00000 (deflated 39%)\n",
            "  adding: GBT_Reg_CV/estimator/stages/20_StringIndexer_ed571d4ac5d0/ (stored 0%)\n",
            "  adding: GBT_Reg_CV/estimator/stages/20_StringIndexer_ed571d4ac5d0/metadata/ (stored 0%)\n",
            "  adding: GBT_Reg_CV/estimator/stages/20_StringIndexer_ed571d4ac5d0/metadata/_SUCCESS (stored 0%)\n",
            "  adding: GBT_Reg_CV/estimator/stages/20_StringIndexer_ed571d4ac5d0/metadata/.part-00000.crc (stored 0%)\n",
            "  adding: GBT_Reg_CV/estimator/stages/20_StringIndexer_ed571d4ac5d0/metadata/._SUCCESS.crc (stored 0%)\n",
            "  adding: GBT_Reg_CV/estimator/stages/20_StringIndexer_ed571d4ac5d0/metadata/part-00000 (deflated 40%)\n",
            "  adding: GBT_Reg_CV/estimator/stages/22_StringIndexer_192bdcc94e63/ (stored 0%)\n",
            "  adding: GBT_Reg_CV/estimator/stages/22_StringIndexer_192bdcc94e63/metadata/ (stored 0%)\n",
            "  adding: GBT_Reg_CV/estimator/stages/22_StringIndexer_192bdcc94e63/metadata/_SUCCESS (stored 0%)\n",
            "  adding: GBT_Reg_CV/estimator/stages/22_StringIndexer_192bdcc94e63/metadata/.part-00000.crc (stored 0%)\n",
            "  adding: GBT_Reg_CV/estimator/stages/22_StringIndexer_192bdcc94e63/metadata/._SUCCESS.crc (stored 0%)\n",
            "  adding: GBT_Reg_CV/estimator/stages/22_StringIndexer_192bdcc94e63/metadata/part-00000 (deflated 40%)\n",
            "  adding: GBT_Reg_CV/estimator/stages/29_StringIndexer_7302d481b88d/ (stored 0%)\n",
            "  adding: GBT_Reg_CV/estimator/stages/29_StringIndexer_7302d481b88d/metadata/ (stored 0%)\n",
            "  adding: GBT_Reg_CV/estimator/stages/29_StringIndexer_7302d481b88d/metadata/_SUCCESS (stored 0%)\n",
            "  adding: GBT_Reg_CV/estimator/stages/29_StringIndexer_7302d481b88d/metadata/.part-00000.crc (stored 0%)\n",
            "  adding: GBT_Reg_CV/estimator/stages/29_StringIndexer_7302d481b88d/metadata/._SUCCESS.crc (stored 0%)\n",
            "  adding: GBT_Reg_CV/estimator/stages/29_StringIndexer_7302d481b88d/metadata/part-00000 (deflated 39%)\n",
            "  adding: GBT_Reg_CV/estimator/stages/34_OneHotEncoder_b61a52557e0d/ (stored 0%)\n",
            "  adding: GBT_Reg_CV/estimator/stages/34_OneHotEncoder_b61a52557e0d/metadata/ (stored 0%)\n",
            "  adding: GBT_Reg_CV/estimator/stages/34_OneHotEncoder_b61a52557e0d/metadata/_SUCCESS (stored 0%)\n",
            "  adding: GBT_Reg_CV/estimator/stages/34_OneHotEncoder_b61a52557e0d/metadata/.part-00000.crc (stored 0%)\n",
            "  adding: GBT_Reg_CV/estimator/stages/34_OneHotEncoder_b61a52557e0d/metadata/._SUCCESS.crc (stored 0%)\n",
            "  adding: GBT_Reg_CV/estimator/stages/34_OneHotEncoder_b61a52557e0d/metadata/part-00000 (deflated 65%)\n",
            "  adding: GBT_Reg_CV/estimator/stages/24_StringIndexer_f5bf037a1999/ (stored 0%)\n",
            "  adding: GBT_Reg_CV/estimator/stages/24_StringIndexer_f5bf037a1999/metadata/ (stored 0%)\n",
            "  adding: GBT_Reg_CV/estimator/stages/24_StringIndexer_f5bf037a1999/metadata/_SUCCESS (stored 0%)\n",
            "  adding: GBT_Reg_CV/estimator/stages/24_StringIndexer_f5bf037a1999/metadata/.part-00000.crc (stored 0%)\n",
            "  adding: GBT_Reg_CV/estimator/stages/24_StringIndexer_f5bf037a1999/metadata/._SUCCESS.crc (stored 0%)\n",
            "  adding: GBT_Reg_CV/estimator/stages/24_StringIndexer_f5bf037a1999/metadata/part-00000 (deflated 40%)\n",
            "  adding: GBT_Reg_CV/estimator/stages/09_StringIndexer_38caaf2b4c83/ (stored 0%)\n",
            "  adding: GBT_Reg_CV/estimator/stages/09_StringIndexer_38caaf2b4c83/metadata/ (stored 0%)\n",
            "  adding: GBT_Reg_CV/estimator/stages/09_StringIndexer_38caaf2b4c83/metadata/_SUCCESS (stored 0%)\n",
            "  adding: GBT_Reg_CV/estimator/stages/09_StringIndexer_38caaf2b4c83/metadata/.part-00000.crc (stored 0%)\n",
            "  adding: GBT_Reg_CV/estimator/stages/09_StringIndexer_38caaf2b4c83/metadata/._SUCCESS.crc (stored 0%)\n",
            "  adding: GBT_Reg_CV/estimator/stages/09_StringIndexer_38caaf2b4c83/metadata/part-00000 (deflated 40%)\n",
            "  adding: GBT_Reg_CV/estimator/stages/30_StringIndexer_fb115b91f073/ (stored 0%)\n",
            "  adding: GBT_Reg_CV/estimator/stages/30_StringIndexer_fb115b91f073/metadata/ (stored 0%)\n",
            "  adding: GBT_Reg_CV/estimator/stages/30_StringIndexer_fb115b91f073/metadata/_SUCCESS (stored 0%)\n",
            "  adding: GBT_Reg_CV/estimator/stages/30_StringIndexer_fb115b91f073/metadata/.part-00000.crc (stored 0%)\n",
            "  adding: GBT_Reg_CV/estimator/stages/30_StringIndexer_fb115b91f073/metadata/._SUCCESS.crc (stored 0%)\n",
            "  adding: GBT_Reg_CV/estimator/stages/30_StringIndexer_fb115b91f073/metadata/part-00000 (deflated 39%)\n",
            "  adding: GBT_Reg_CV/estimator/stages/13_StringIndexer_f64845f01ba5/ (stored 0%)\n",
            "  adding: GBT_Reg_CV/estimator/stages/13_StringIndexer_f64845f01ba5/metadata/ (stored 0%)\n",
            "  adding: GBT_Reg_CV/estimator/stages/13_StringIndexer_f64845f01ba5/metadata/_SUCCESS (stored 0%)\n",
            "  adding: GBT_Reg_CV/estimator/stages/13_StringIndexer_f64845f01ba5/metadata/.part-00000.crc (stored 0%)\n",
            "  adding: GBT_Reg_CV/estimator/stages/13_StringIndexer_f64845f01ba5/metadata/._SUCCESS.crc (stored 0%)\n",
            "  adding: GBT_Reg_CV/estimator/stages/13_StringIndexer_f64845f01ba5/metadata/part-00000 (deflated 39%)\n",
            "  adding: GBT_Reg_CV/estimator/stages/01_StringIndexer_7323f0fb9f00/ (stored 0%)\n",
            "  adding: GBT_Reg_CV/estimator/stages/01_StringIndexer_7323f0fb9f00/metadata/ (stored 0%)\n",
            "  adding: GBT_Reg_CV/estimator/stages/01_StringIndexer_7323f0fb9f00/metadata/_SUCCESS (stored 0%)\n",
            "  adding: GBT_Reg_CV/estimator/stages/01_StringIndexer_7323f0fb9f00/metadata/.part-00000.crc (stored 0%)\n",
            "  adding: GBT_Reg_CV/estimator/stages/01_StringIndexer_7323f0fb9f00/metadata/._SUCCESS.crc (stored 0%)\n",
            "  adding: GBT_Reg_CV/estimator/stages/01_StringIndexer_7323f0fb9f00/metadata/part-00000 (deflated 39%)\n",
            "  adding: GBT_Reg_CV/estimator/stages/18_StringIndexer_089f7c180207/ (stored 0%)\n",
            "  adding: GBT_Reg_CV/estimator/stages/18_StringIndexer_089f7c180207/metadata/ (stored 0%)\n",
            "  adding: GBT_Reg_CV/estimator/stages/18_StringIndexer_089f7c180207/metadata/_SUCCESS (stored 0%)\n",
            "  adding: GBT_Reg_CV/estimator/stages/18_StringIndexer_089f7c180207/metadata/.part-00000.crc (stored 0%)\n",
            "  adding: GBT_Reg_CV/estimator/stages/18_StringIndexer_089f7c180207/metadata/._SUCCESS.crc (stored 0%)\n",
            "  adding: GBT_Reg_CV/estimator/stages/18_StringIndexer_089f7c180207/metadata/part-00000 (deflated 40%)\n",
            "  adding: GBT_Reg_CV/estimator/stages/31_StringIndexer_53915b806363/ (stored 0%)\n",
            "  adding: GBT_Reg_CV/estimator/stages/31_StringIndexer_53915b806363/metadata/ (stored 0%)\n",
            "  adding: GBT_Reg_CV/estimator/stages/31_StringIndexer_53915b806363/metadata/_SUCCESS (stored 0%)\n",
            "  adding: GBT_Reg_CV/estimator/stages/31_StringIndexer_53915b806363/metadata/.part-00000.crc (stored 0%)\n",
            "  adding: GBT_Reg_CV/estimator/stages/31_StringIndexer_53915b806363/metadata/._SUCCESS.crc (stored 0%)\n",
            "  adding: GBT_Reg_CV/estimator/stages/31_StringIndexer_53915b806363/metadata/part-00000 (deflated 39%)\n",
            "  adding: GBT_Reg_CV/estimator/stages/23_StringIndexer_8c23df92c2c7/ (stored 0%)\n",
            "  adding: GBT_Reg_CV/estimator/stages/23_StringIndexer_8c23df92c2c7/metadata/ (stored 0%)\n",
            "  adding: GBT_Reg_CV/estimator/stages/23_StringIndexer_8c23df92c2c7/metadata/_SUCCESS (stored 0%)\n",
            "  adding: GBT_Reg_CV/estimator/stages/23_StringIndexer_8c23df92c2c7/metadata/.part-00000.crc (stored 0%)\n",
            "  adding: GBT_Reg_CV/estimator/stages/23_StringIndexer_8c23df92c2c7/metadata/._SUCCESS.crc (stored 0%)\n",
            "  adding: GBT_Reg_CV/estimator/stages/23_StringIndexer_8c23df92c2c7/metadata/part-00000 (deflated 40%)\n",
            "  adding: GBT_Reg_CV/estimator/stages/21_StringIndexer_50402281e2c5/ (stored 0%)\n",
            "  adding: GBT_Reg_CV/estimator/stages/21_StringIndexer_50402281e2c5/metadata/ (stored 0%)\n",
            "  adding: GBT_Reg_CV/estimator/stages/21_StringIndexer_50402281e2c5/metadata/_SUCCESS (stored 0%)\n",
            "  adding: GBT_Reg_CV/estimator/stages/21_StringIndexer_50402281e2c5/metadata/.part-00000.crc (stored 0%)\n",
            "  adding: GBT_Reg_CV/estimator/stages/21_StringIndexer_50402281e2c5/metadata/._SUCCESS.crc (stored 0%)\n",
            "  adding: GBT_Reg_CV/estimator/stages/21_StringIndexer_50402281e2c5/metadata/part-00000 (deflated 40%)\n",
            "  adding: GBT_Reg_CV/estimator/stages/37_GBTRegressor_eb240e038117/ (stored 0%)\n",
            "  adding: GBT_Reg_CV/estimator/stages/37_GBTRegressor_eb240e038117/metadata/ (stored 0%)\n",
            "  adding: GBT_Reg_CV/estimator/stages/37_GBTRegressor_eb240e038117/metadata/_SUCCESS (stored 0%)\n",
            "  adding: GBT_Reg_CV/estimator/stages/37_GBTRegressor_eb240e038117/metadata/.part-00000.crc (stored 0%)\n",
            "  adding: GBT_Reg_CV/estimator/stages/37_GBTRegressor_eb240e038117/metadata/._SUCCESS.crc (stored 0%)\n",
            "  adding: GBT_Reg_CV/estimator/stages/37_GBTRegressor_eb240e038117/metadata/part-00000 (deflated 37%)\n",
            "  adding: GBT_Reg_CV/estimator/stages/19_StringIndexer_2b12c0625a8d/ (stored 0%)\n",
            "  adding: GBT_Reg_CV/estimator/stages/19_StringIndexer_2b12c0625a8d/metadata/ (stored 0%)\n",
            "  adding: GBT_Reg_CV/estimator/stages/19_StringIndexer_2b12c0625a8d/metadata/_SUCCESS (stored 0%)\n",
            "  adding: GBT_Reg_CV/estimator/stages/19_StringIndexer_2b12c0625a8d/metadata/.part-00000.crc (stored 0%)\n",
            "  adding: GBT_Reg_CV/estimator/stages/19_StringIndexer_2b12c0625a8d/metadata/._SUCCESS.crc (stored 0%)\n",
            "  adding: GBT_Reg_CV/estimator/stages/19_StringIndexer_2b12c0625a8d/metadata/part-00000 (deflated 40%)\n",
            "  adding: GBT_Reg_CV/estimator/stages/11_StringIndexer_9773b87b47f6/ (stored 0%)\n",
            "  adding: GBT_Reg_CV/estimator/stages/11_StringIndexer_9773b87b47f6/metadata/ (stored 0%)\n",
            "  adding: GBT_Reg_CV/estimator/stages/11_StringIndexer_9773b87b47f6/metadata/_SUCCESS (stored 0%)\n",
            "  adding: GBT_Reg_CV/estimator/stages/11_StringIndexer_9773b87b47f6/metadata/.part-00000.crc (stored 0%)\n",
            "  adding: GBT_Reg_CV/estimator/stages/11_StringIndexer_9773b87b47f6/metadata/._SUCCESS.crc (stored 0%)\n",
            "  adding: GBT_Reg_CV/estimator/stages/11_StringIndexer_9773b87b47f6/metadata/part-00000 (deflated 40%)\n",
            "  adding: GBT_Reg_CV/estimator/stages/10_StringIndexer_f6146d101838/ (stored 0%)\n",
            "  adding: GBT_Reg_CV/estimator/stages/10_StringIndexer_f6146d101838/metadata/ (stored 0%)\n",
            "  adding: GBT_Reg_CV/estimator/stages/10_StringIndexer_f6146d101838/metadata/_SUCCESS (stored 0%)\n",
            "  adding: GBT_Reg_CV/estimator/stages/10_StringIndexer_f6146d101838/metadata/.part-00000.crc (stored 0%)\n",
            "  adding: GBT_Reg_CV/estimator/stages/10_StringIndexer_f6146d101838/metadata/._SUCCESS.crc (stored 0%)\n",
            "  adding: GBT_Reg_CV/estimator/stages/10_StringIndexer_f6146d101838/metadata/part-00000 (deflated 40%)\n",
            "  adding: GBT_Reg_CV/estimator/stages/35_VectorAssembler_7a25b85c41d4/ (stored 0%)\n",
            "  adding: GBT_Reg_CV/estimator/stages/35_VectorAssembler_7a25b85c41d4/metadata/ (stored 0%)\n",
            "  adding: GBT_Reg_CV/estimator/stages/35_VectorAssembler_7a25b85c41d4/metadata/_SUCCESS (stored 0%)\n",
            "  adding: GBT_Reg_CV/estimator/stages/35_VectorAssembler_7a25b85c41d4/metadata/.part-00000.crc (stored 0%)\n",
            "  adding: GBT_Reg_CV/estimator/stages/35_VectorAssembler_7a25b85c41d4/metadata/._SUCCESS.crc (stored 0%)\n",
            "  adding: GBT_Reg_CV/estimator/stages/35_VectorAssembler_7a25b85c41d4/metadata/part-00000 (deflated 53%)\n",
            "  adding: GBT_Reg_CV/estimator/stages/33_StringIndexer_d5b35265329d/ (stored 0%)\n",
            "  adding: GBT_Reg_CV/estimator/stages/33_StringIndexer_d5b35265329d/metadata/ (stored 0%)\n",
            "  adding: GBT_Reg_CV/estimator/stages/33_StringIndexer_d5b35265329d/metadata/_SUCCESS (stored 0%)\n",
            "  adding: GBT_Reg_CV/estimator/stages/33_StringIndexer_d5b35265329d/metadata/.part-00000.crc (stored 0%)\n",
            "  adding: GBT_Reg_CV/estimator/stages/33_StringIndexer_d5b35265329d/metadata/._SUCCESS.crc (stored 0%)\n",
            "  adding: GBT_Reg_CV/estimator/stages/33_StringIndexer_d5b35265329d/metadata/part-00000 (deflated 40%)\n",
            "  adding: GBT_Reg_CV/estimator/stages/28_StringIndexer_aa41fbce61c1/ (stored 0%)\n",
            "  adding: GBT_Reg_CV/estimator/stages/28_StringIndexer_aa41fbce61c1/metadata/ (stored 0%)\n",
            "  adding: GBT_Reg_CV/estimator/stages/28_StringIndexer_aa41fbce61c1/metadata/_SUCCESS (stored 0%)\n",
            "  adding: GBT_Reg_CV/estimator/stages/28_StringIndexer_aa41fbce61c1/metadata/.part-00000.crc (stored 0%)\n",
            "  adding: GBT_Reg_CV/estimator/stages/28_StringIndexer_aa41fbce61c1/metadata/._SUCCESS.crc (stored 0%)\n",
            "  adding: GBT_Reg_CV/estimator/stages/28_StringIndexer_aa41fbce61c1/metadata/part-00000 (deflated 40%)\n",
            "  adding: GBT_Reg_CV/estimator/stages/08_StringIndexer_738cbc482f90/ (stored 0%)\n",
            "  adding: GBT_Reg_CV/estimator/stages/08_StringIndexer_738cbc482f90/metadata/ (stored 0%)\n",
            "  adding: GBT_Reg_CV/estimator/stages/08_StringIndexer_738cbc482f90/metadata/_SUCCESS (stored 0%)\n",
            "  adding: GBT_Reg_CV/estimator/stages/08_StringIndexer_738cbc482f90/metadata/.part-00000.crc (stored 0%)\n",
            "  adding: GBT_Reg_CV/estimator/stages/08_StringIndexer_738cbc482f90/metadata/._SUCCESS.crc (stored 0%)\n",
            "  adding: GBT_Reg_CV/estimator/stages/08_StringIndexer_738cbc482f90/metadata/part-00000 (deflated 40%)\n",
            "  adding: GBT_Reg_CV/estimator/stages/03_StringIndexer_542c8c152b6b/ (stored 0%)\n",
            "  adding: GBT_Reg_CV/estimator/stages/03_StringIndexer_542c8c152b6b/metadata/ (stored 0%)\n",
            "  adding: GBT_Reg_CV/estimator/stages/03_StringIndexer_542c8c152b6b/metadata/_SUCCESS (stored 0%)\n",
            "  adding: GBT_Reg_CV/estimator/stages/03_StringIndexer_542c8c152b6b/metadata/.part-00000.crc (stored 0%)\n",
            "  adding: GBT_Reg_CV/estimator/stages/03_StringIndexer_542c8c152b6b/metadata/._SUCCESS.crc (stored 0%)\n",
            "  adding: GBT_Reg_CV/estimator/stages/03_StringIndexer_542c8c152b6b/metadata/part-00000 (deflated 39%)\n",
            "  adding: GBT_Reg_CV/estimator/stages/05_StringIndexer_5416d690852f/ (stored 0%)\n",
            "  adding: GBT_Reg_CV/estimator/stages/05_StringIndexer_5416d690852f/metadata/ (stored 0%)\n",
            "  adding: GBT_Reg_CV/estimator/stages/05_StringIndexer_5416d690852f/metadata/_SUCCESS (stored 0%)\n",
            "  adding: GBT_Reg_CV/estimator/stages/05_StringIndexer_5416d690852f/metadata/.part-00000.crc (stored 0%)\n",
            "  adding: GBT_Reg_CV/estimator/stages/05_StringIndexer_5416d690852f/metadata/._SUCCESS.crc (stored 0%)\n",
            "  adding: GBT_Reg_CV/estimator/stages/05_StringIndexer_5416d690852f/metadata/part-00000 (deflated 39%)\n",
            "  adding: GBT_Reg_CV/estimator/stages/27_StringIndexer_4a76a44b8076/ (stored 0%)\n",
            "  adding: GBT_Reg_CV/estimator/stages/27_StringIndexer_4a76a44b8076/metadata/ (stored 0%)\n",
            "  adding: GBT_Reg_CV/estimator/stages/27_StringIndexer_4a76a44b8076/metadata/_SUCCESS (stored 0%)\n",
            "  adding: GBT_Reg_CV/estimator/stages/27_StringIndexer_4a76a44b8076/metadata/.part-00000.crc (stored 0%)\n",
            "  adding: GBT_Reg_CV/estimator/stages/27_StringIndexer_4a76a44b8076/metadata/._SUCCESS.crc (stored 0%)\n",
            "  adding: GBT_Reg_CV/estimator/stages/27_StringIndexer_4a76a44b8076/metadata/part-00000 (deflated 40%)\n",
            "  adding: GBT_Reg_CV/estimator/stages/02_StringIndexer_8f48fde5bdb5/ (stored 0%)\n",
            "  adding: GBT_Reg_CV/estimator/stages/02_StringIndexer_8f48fde5bdb5/metadata/ (stored 0%)\n",
            "  adding: GBT_Reg_CV/estimator/stages/02_StringIndexer_8f48fde5bdb5/metadata/_SUCCESS (stored 0%)\n",
            "  adding: GBT_Reg_CV/estimator/stages/02_StringIndexer_8f48fde5bdb5/metadata/.part-00000.crc (stored 0%)\n",
            "  adding: GBT_Reg_CV/estimator/stages/02_StringIndexer_8f48fde5bdb5/metadata/._SUCCESS.crc (stored 0%)\n",
            "  adding: GBT_Reg_CV/estimator/stages/02_StringIndexer_8f48fde5bdb5/metadata/part-00000 (deflated 39%)\n",
            "  adding: GBT_Reg_CV/estimator/stages/32_StringIndexer_3e0ddbaeb406/ (stored 0%)\n",
            "  adding: GBT_Reg_CV/estimator/stages/32_StringIndexer_3e0ddbaeb406/metadata/ (stored 0%)\n",
            "  adding: GBT_Reg_CV/estimator/stages/32_StringIndexer_3e0ddbaeb406/metadata/_SUCCESS (stored 0%)\n",
            "  adding: GBT_Reg_CV/estimator/stages/32_StringIndexer_3e0ddbaeb406/metadata/.part-00000.crc (stored 0%)\n",
            "  adding: GBT_Reg_CV/estimator/stages/32_StringIndexer_3e0ddbaeb406/metadata/._SUCCESS.crc (stored 0%)\n",
            "  adding: GBT_Reg_CV/estimator/stages/32_StringIndexer_3e0ddbaeb406/metadata/part-00000 (deflated 40%)\n",
            "  adding: GBT_Reg_CV/estimator/stages/25_StringIndexer_183cd65354aa/ (stored 0%)\n",
            "  adding: GBT_Reg_CV/estimator/stages/25_StringIndexer_183cd65354aa/metadata/ (stored 0%)\n",
            "  adding: GBT_Reg_CV/estimator/stages/25_StringIndexer_183cd65354aa/metadata/_SUCCESS (stored 0%)\n",
            "  adding: GBT_Reg_CV/estimator/stages/25_StringIndexer_183cd65354aa/metadata/.part-00000.crc (stored 0%)\n",
            "  adding: GBT_Reg_CV/estimator/stages/25_StringIndexer_183cd65354aa/metadata/._SUCCESS.crc (stored 0%)\n",
            "  adding: GBT_Reg_CV/estimator/stages/25_StringIndexer_183cd65354aa/metadata/part-00000 (deflated 40%)\n",
            "  adding: GBT_Reg_CV/estimator/stages/07_StringIndexer_ee96c43adc1d/ (stored 0%)\n",
            "  adding: GBT_Reg_CV/estimator/stages/07_StringIndexer_ee96c43adc1d/metadata/ (stored 0%)\n",
            "  adding: GBT_Reg_CV/estimator/stages/07_StringIndexer_ee96c43adc1d/metadata/_SUCCESS (stored 0%)\n",
            "  adding: GBT_Reg_CV/estimator/stages/07_StringIndexer_ee96c43adc1d/metadata/.part-00000.crc (stored 0%)\n",
            "  adding: GBT_Reg_CV/estimator/stages/07_StringIndexer_ee96c43adc1d/metadata/._SUCCESS.crc (stored 0%)\n",
            "  adding: GBT_Reg_CV/estimator/stages/07_StringIndexer_ee96c43adc1d/metadata/part-00000 (deflated 41%)\n",
            "  adding: GBT_Reg_CV/estimator/stages/12_StringIndexer_352bd9bf7b62/ (stored 0%)\n",
            "  adding: GBT_Reg_CV/estimator/stages/12_StringIndexer_352bd9bf7b62/metadata/ (stored 0%)\n",
            "  adding: GBT_Reg_CV/estimator/stages/12_StringIndexer_352bd9bf7b62/metadata/_SUCCESS (stored 0%)\n",
            "  adding: GBT_Reg_CV/estimator/stages/12_StringIndexer_352bd9bf7b62/metadata/.part-00000.crc (stored 0%)\n",
            "  adding: GBT_Reg_CV/estimator/stages/12_StringIndexer_352bd9bf7b62/metadata/._SUCCESS.crc (stored 0%)\n",
            "  adding: GBT_Reg_CV/estimator/stages/12_StringIndexer_352bd9bf7b62/metadata/part-00000 (deflated 39%)\n",
            "  adding: GBT_Reg_CV/estimator/stages/06_StringIndexer_9521748df0ec/ (stored 0%)\n",
            "  adding: GBT_Reg_CV/estimator/stages/06_StringIndexer_9521748df0ec/metadata/ (stored 0%)\n",
            "  adding: GBT_Reg_CV/estimator/stages/06_StringIndexer_9521748df0ec/metadata/_SUCCESS (stored 0%)\n",
            "  adding: GBT_Reg_CV/estimator/stages/06_StringIndexer_9521748df0ec/metadata/.part-00000.crc (stored 0%)\n",
            "  adding: GBT_Reg_CV/estimator/stages/06_StringIndexer_9521748df0ec/metadata/._SUCCESS.crc (stored 0%)\n",
            "  adding: GBT_Reg_CV/estimator/stages/06_StringIndexer_9521748df0ec/metadata/part-00000 (deflated 40%)\n",
            "  adding: GBT_Reg_CV/evaluator/ (stored 0%)\n",
            "  adding: GBT_Reg_CV/evaluator/metadata/ (stored 0%)\n",
            "  adding: GBT_Reg_CV/evaluator/metadata/_SUCCESS (stored 0%)\n",
            "  adding: GBT_Reg_CV/evaluator/metadata/.part-00000.crc (stored 0%)\n",
            "  adding: GBT_Reg_CV/evaluator/metadata/._SUCCESS.crc (stored 0%)\n",
            "  adding: GBT_Reg_CV/evaluator/metadata/part-00000 (deflated 34%)\n",
            "  adding: GBT_Reg_CV/bestModel/ (stored 0%)\n",
            "  adding: GBT_Reg_CV/bestModel/metadata/ (stored 0%)\n",
            "  adding: GBT_Reg_CV/bestModel/metadata/_SUCCESS (stored 0%)\n",
            "  adding: GBT_Reg_CV/bestModel/metadata/.part-00000.crc (stored 0%)\n",
            "  adding: GBT_Reg_CV/bestModel/metadata/._SUCCESS.crc (stored 0%)\n",
            "  adding: GBT_Reg_CV/bestModel/metadata/part-00000 (deflated 58%)\n",
            "  adding: GBT_Reg_CV/bestModel/stages/ (stored 0%)\n",
            "  adding: GBT_Reg_CV/bestModel/stages/26_StringIndexer_2acc4bc87276/ (stored 0%)\n",
            "  adding: GBT_Reg_CV/bestModel/stages/26_StringIndexer_2acc4bc87276/data/ (stored 0%)\n",
            "  adding: GBT_Reg_CV/bestModel/stages/26_StringIndexer_2acc4bc87276/data/_SUCCESS (stored 0%)\n",
            "  adding: GBT_Reg_CV/bestModel/stages/26_StringIndexer_2acc4bc87276/data/._SUCCESS.crc (stored 0%)\n",
            "  adding: GBT_Reg_CV/bestModel/stages/26_StringIndexer_2acc4bc87276/data/.part-00000-f1a75770-65d5-4880-929b-55b23e443d95-c000.snappy.parquet.crc (stored 0%)\n",
            "  adding: GBT_Reg_CV/bestModel/stages/26_StringIndexer_2acc4bc87276/data/part-00000-f1a75770-65d5-4880-929b-55b23e443d95-c000.snappy.parquet (deflated 33%)\n",
            "  adding: GBT_Reg_CV/bestModel/stages/26_StringIndexer_2acc4bc87276/metadata/ (stored 0%)\n",
            "  adding: GBT_Reg_CV/bestModel/stages/26_StringIndexer_2acc4bc87276/metadata/_SUCCESS (stored 0%)\n",
            "  adding: GBT_Reg_CV/bestModel/stages/26_StringIndexer_2acc4bc87276/metadata/.part-00000.crc (stored 0%)\n",
            "  adding: GBT_Reg_CV/bestModel/stages/26_StringIndexer_2acc4bc87276/metadata/._SUCCESS.crc (stored 0%)\n",
            "  adding: GBT_Reg_CV/bestModel/stages/26_StringIndexer_2acc4bc87276/metadata/part-00000 (deflated 40%)\n",
            "  adding: GBT_Reg_CV/bestModel/stages/36_StandardScaler_dc3a40464f70/ (stored 0%)\n",
            "  adding: GBT_Reg_CV/bestModel/stages/36_StandardScaler_dc3a40464f70/data/ (stored 0%)\n",
            "  adding: GBT_Reg_CV/bestModel/stages/36_StandardScaler_dc3a40464f70/data/_SUCCESS (stored 0%)\n",
            "  adding: GBT_Reg_CV/bestModel/stages/36_StandardScaler_dc3a40464f70/data/._SUCCESS.crc (stored 0%)\n",
            "  adding: GBT_Reg_CV/bestModel/stages/36_StandardScaler_dc3a40464f70/data/.part-00000-dc608f2d-bb03-46a7-8cdd-21fd73aa204a-c000.snappy.parquet.crc (stored 0%)\n",
            "  adding: GBT_Reg_CV/bestModel/stages/36_StandardScaler_dc3a40464f70/data/part-00000-dc608f2d-bb03-46a7-8cdd-21fd73aa204a-c000.snappy.parquet (deflated 36%)\n",
            "  adding: GBT_Reg_CV/bestModel/stages/36_StandardScaler_dc3a40464f70/metadata/ (stored 0%)\n",
            "  adding: GBT_Reg_CV/bestModel/stages/36_StandardScaler_dc3a40464f70/metadata/_SUCCESS (stored 0%)\n",
            "  adding: GBT_Reg_CV/bestModel/stages/36_StandardScaler_dc3a40464f70/metadata/.part-00000.crc (stored 0%)\n",
            "  adding: GBT_Reg_CV/bestModel/stages/36_StandardScaler_dc3a40464f70/metadata/._SUCCESS.crc (stored 0%)\n",
            "  adding: GBT_Reg_CV/bestModel/stages/36_StandardScaler_dc3a40464f70/metadata/part-00000 (deflated 39%)\n",
            "  adding: GBT_Reg_CV/bestModel/stages/15_StringIndexer_271a29e51103/ (stored 0%)\n",
            "  adding: GBT_Reg_CV/bestModel/stages/15_StringIndexer_271a29e51103/data/ (stored 0%)\n",
            "  adding: GBT_Reg_CV/bestModel/stages/15_StringIndexer_271a29e51103/data/.part-00000-07a2b641-3ba3-4f44-a933-b61ffd1a4851-c000.snappy.parquet.crc (stored 0%)\n",
            "  adding: GBT_Reg_CV/bestModel/stages/15_StringIndexer_271a29e51103/data/_SUCCESS (stored 0%)\n",
            "  adding: GBT_Reg_CV/bestModel/stages/15_StringIndexer_271a29e51103/data/._SUCCESS.crc (stored 0%)\n",
            "  adding: GBT_Reg_CV/bestModel/stages/15_StringIndexer_271a29e51103/data/part-00000-07a2b641-3ba3-4f44-a933-b61ffd1a4851-c000.snappy.parquet (deflated 34%)\n",
            "  adding: GBT_Reg_CV/bestModel/stages/15_StringIndexer_271a29e51103/metadata/ (stored 0%)\n",
            "  adding: GBT_Reg_CV/bestModel/stages/15_StringIndexer_271a29e51103/metadata/_SUCCESS (stored 0%)\n",
            "  adding: GBT_Reg_CV/bestModel/stages/15_StringIndexer_271a29e51103/metadata/.part-00000.crc (stored 0%)\n",
            "  adding: GBT_Reg_CV/bestModel/stages/15_StringIndexer_271a29e51103/metadata/._SUCCESS.crc (stored 0%)\n",
            "  adding: GBT_Reg_CV/bestModel/stages/15_StringIndexer_271a29e51103/metadata/part-00000 (deflated 39%)\n",
            "  adding: GBT_Reg_CV/bestModel/stages/14_StringIndexer_3772c717e24e/ (stored 0%)\n",
            "  adding: GBT_Reg_CV/bestModel/stages/14_StringIndexer_3772c717e24e/data/ (stored 0%)\n",
            "  adding: GBT_Reg_CV/bestModel/stages/14_StringIndexer_3772c717e24e/data/_SUCCESS (stored 0%)\n",
            "  adding: GBT_Reg_CV/bestModel/stages/14_StringIndexer_3772c717e24e/data/._SUCCESS.crc (stored 0%)\n",
            "  adding: GBT_Reg_CV/bestModel/stages/14_StringIndexer_3772c717e24e/data/part-00000-297a8ceb-207b-4ffa-8276-fd549e044dec-c000.snappy.parquet (deflated 34%)\n",
            "  adding: GBT_Reg_CV/bestModel/stages/14_StringIndexer_3772c717e24e/data/.part-00000-297a8ceb-207b-4ffa-8276-fd549e044dec-c000.snappy.parquet.crc (stored 0%)\n",
            "  adding: GBT_Reg_CV/bestModel/stages/14_StringIndexer_3772c717e24e/metadata/ (stored 0%)\n",
            "  adding: GBT_Reg_CV/bestModel/stages/14_StringIndexer_3772c717e24e/metadata/_SUCCESS (stored 0%)\n",
            "  adding: GBT_Reg_CV/bestModel/stages/14_StringIndexer_3772c717e24e/metadata/.part-00000.crc (stored 0%)\n",
            "  adding: GBT_Reg_CV/bestModel/stages/14_StringIndexer_3772c717e24e/metadata/._SUCCESS.crc (stored 0%)\n",
            "  adding: GBT_Reg_CV/bestModel/stages/14_StringIndexer_3772c717e24e/metadata/part-00000 (deflated 40%)\n",
            "  adding: GBT_Reg_CV/bestModel/stages/17_StringIndexer_1313b130f892/ (stored 0%)\n",
            "  adding: GBT_Reg_CV/bestModel/stages/17_StringIndexer_1313b130f892/data/ (stored 0%)\n",
            "  adding: GBT_Reg_CV/bestModel/stages/17_StringIndexer_1313b130f892/data/_SUCCESS (stored 0%)\n",
            "  adding: GBT_Reg_CV/bestModel/stages/17_StringIndexer_1313b130f892/data/.part-00000-cc156f31-a59c-40fe-afcd-4c02f1247730-c000.snappy.parquet.crc (stored 0%)\n",
            "  adding: GBT_Reg_CV/bestModel/stages/17_StringIndexer_1313b130f892/data/._SUCCESS.crc (stored 0%)\n",
            "  adding: GBT_Reg_CV/bestModel/stages/17_StringIndexer_1313b130f892/data/part-00000-cc156f31-a59c-40fe-afcd-4c02f1247730-c000.snappy.parquet (deflated 33%)\n",
            "  adding: GBT_Reg_CV/bestModel/stages/17_StringIndexer_1313b130f892/metadata/ (stored 0%)\n",
            "  adding: GBT_Reg_CV/bestModel/stages/17_StringIndexer_1313b130f892/metadata/_SUCCESS (stored 0%)\n",
            "  adding: GBT_Reg_CV/bestModel/stages/17_StringIndexer_1313b130f892/metadata/.part-00000.crc (stored 0%)\n",
            "  adding: GBT_Reg_CV/bestModel/stages/17_StringIndexer_1313b130f892/metadata/._SUCCESS.crc (stored 0%)\n",
            "  adding: GBT_Reg_CV/bestModel/stages/17_StringIndexer_1313b130f892/metadata/part-00000 (deflated 40%)\n",
            "  adding: GBT_Reg_CV/bestModel/stages/00_StringIndexer_075dd713625d/ (stored 0%)\n",
            "  adding: GBT_Reg_CV/bestModel/stages/00_StringIndexer_075dd713625d/data/ (stored 0%)\n",
            "  adding: GBT_Reg_CV/bestModel/stages/00_StringIndexer_075dd713625d/data/_SUCCESS (stored 0%)\n",
            "  adding: GBT_Reg_CV/bestModel/stages/00_StringIndexer_075dd713625d/data/.part-00000-7a04508e-d1f5-4812-878d-36be2a512aae-c000.snappy.parquet.crc (stored 0%)\n",
            "  adding: GBT_Reg_CV/bestModel/stages/00_StringIndexer_075dd713625d/data/._SUCCESS.crc (stored 0%)\n",
            "  adding: GBT_Reg_CV/bestModel/stages/00_StringIndexer_075dd713625d/data/part-00000-7a04508e-d1f5-4812-878d-36be2a512aae-c000.snappy.parquet (deflated 34%)\n",
            "  adding: GBT_Reg_CV/bestModel/stages/00_StringIndexer_075dd713625d/metadata/ (stored 0%)\n",
            "  adding: GBT_Reg_CV/bestModel/stages/00_StringIndexer_075dd713625d/metadata/_SUCCESS (stored 0%)\n",
            "  adding: GBT_Reg_CV/bestModel/stages/00_StringIndexer_075dd713625d/metadata/.part-00000.crc (stored 0%)\n",
            "  adding: GBT_Reg_CV/bestModel/stages/00_StringIndexer_075dd713625d/metadata/._SUCCESS.crc (stored 0%)\n",
            "  adding: GBT_Reg_CV/bestModel/stages/00_StringIndexer_075dd713625d/metadata/part-00000 (deflated 39%)\n",
            "  adding: GBT_Reg_CV/bestModel/stages/04_StringIndexer_5ea8b8288122/ (stored 0%)\n",
            "  adding: GBT_Reg_CV/bestModel/stages/04_StringIndexer_5ea8b8288122/data/ (stored 0%)\n",
            "  adding: GBT_Reg_CV/bestModel/stages/04_StringIndexer_5ea8b8288122/data/_SUCCESS (stored 0%)\n",
            "  adding: GBT_Reg_CV/bestModel/stages/04_StringIndexer_5ea8b8288122/data/._SUCCESS.crc (stored 0%)\n",
            "  adding: GBT_Reg_CV/bestModel/stages/04_StringIndexer_5ea8b8288122/data/.part-00000-2895f2a2-8b62-4071-b0d3-903d75797cce-c000.snappy.parquet.crc (stored 0%)\n",
            "  adding: GBT_Reg_CV/bestModel/stages/04_StringIndexer_5ea8b8288122/data/part-00000-2895f2a2-8b62-4071-b0d3-903d75797cce-c000.snappy.parquet (deflated 36%)\n",
            "  adding: GBT_Reg_CV/bestModel/stages/04_StringIndexer_5ea8b8288122/metadata/ (stored 0%)\n",
            "  adding: GBT_Reg_CV/bestModel/stages/04_StringIndexer_5ea8b8288122/metadata/_SUCCESS (stored 0%)\n",
            "  adding: GBT_Reg_CV/bestModel/stages/04_StringIndexer_5ea8b8288122/metadata/.part-00000.crc (stored 0%)\n",
            "  adding: GBT_Reg_CV/bestModel/stages/04_StringIndexer_5ea8b8288122/metadata/._SUCCESS.crc (stored 0%)\n",
            "  adding: GBT_Reg_CV/bestModel/stages/04_StringIndexer_5ea8b8288122/metadata/part-00000 (deflated 39%)\n",
            "  adding: GBT_Reg_CV/bestModel/stages/16_StringIndexer_08dd415ce0b2/ (stored 0%)\n",
            "  adding: GBT_Reg_CV/bestModel/stages/16_StringIndexer_08dd415ce0b2/data/ (stored 0%)\n",
            "  adding: GBT_Reg_CV/bestModel/stages/16_StringIndexer_08dd415ce0b2/data/_SUCCESS (stored 0%)\n",
            "  adding: GBT_Reg_CV/bestModel/stages/16_StringIndexer_08dd415ce0b2/data/.part-00000-7e1c2865-c24b-43d6-a27a-4ba0205f2fb0-c000.snappy.parquet.crc (stored 0%)\n",
            "  adding: GBT_Reg_CV/bestModel/stages/16_StringIndexer_08dd415ce0b2/data/part-00000-7e1c2865-c24b-43d6-a27a-4ba0205f2fb0-c000.snappy.parquet (deflated 34%)\n",
            "  adding: GBT_Reg_CV/bestModel/stages/16_StringIndexer_08dd415ce0b2/data/._SUCCESS.crc (stored 0%)\n",
            "  adding: GBT_Reg_CV/bestModel/stages/16_StringIndexer_08dd415ce0b2/metadata/ (stored 0%)\n",
            "  adding: GBT_Reg_CV/bestModel/stages/16_StringIndexer_08dd415ce0b2/metadata/_SUCCESS (stored 0%)\n",
            "  adding: GBT_Reg_CV/bestModel/stages/16_StringIndexer_08dd415ce0b2/metadata/.part-00000.crc (stored 0%)\n",
            "  adding: GBT_Reg_CV/bestModel/stages/16_StringIndexer_08dd415ce0b2/metadata/._SUCCESS.crc (stored 0%)\n",
            "  adding: GBT_Reg_CV/bestModel/stages/16_StringIndexer_08dd415ce0b2/metadata/part-00000 (deflated 39%)\n",
            "  adding: GBT_Reg_CV/bestModel/stages/20_StringIndexer_ed571d4ac5d0/ (stored 0%)\n",
            "  adding: GBT_Reg_CV/bestModel/stages/20_StringIndexer_ed571d4ac5d0/data/ (stored 0%)\n",
            "  adding: GBT_Reg_CV/bestModel/stages/20_StringIndexer_ed571d4ac5d0/data/_SUCCESS (stored 0%)\n",
            "  adding: GBT_Reg_CV/bestModel/stages/20_StringIndexer_ed571d4ac5d0/data/part-00000-ba5133f0-08ac-4309-b76b-349670d24922-c000.snappy.parquet (deflated 33%)\n",
            "  adding: GBT_Reg_CV/bestModel/stages/20_StringIndexer_ed571d4ac5d0/data/.part-00000-ba5133f0-08ac-4309-b76b-349670d24922-c000.snappy.parquet.crc (stored 0%)\n",
            "  adding: GBT_Reg_CV/bestModel/stages/20_StringIndexer_ed571d4ac5d0/data/._SUCCESS.crc (stored 0%)\n",
            "  adding: GBT_Reg_CV/bestModel/stages/20_StringIndexer_ed571d4ac5d0/metadata/ (stored 0%)\n",
            "  adding: GBT_Reg_CV/bestModel/stages/20_StringIndexer_ed571d4ac5d0/metadata/_SUCCESS (stored 0%)\n",
            "  adding: GBT_Reg_CV/bestModel/stages/20_StringIndexer_ed571d4ac5d0/metadata/.part-00000.crc (stored 0%)\n",
            "  adding: GBT_Reg_CV/bestModel/stages/20_StringIndexer_ed571d4ac5d0/metadata/._SUCCESS.crc (stored 0%)\n",
            "  adding: GBT_Reg_CV/bestModel/stages/20_StringIndexer_ed571d4ac5d0/metadata/part-00000 (deflated 40%)\n",
            "  adding: GBT_Reg_CV/bestModel/stages/22_StringIndexer_192bdcc94e63/ (stored 0%)\n",
            "  adding: GBT_Reg_CV/bestModel/stages/22_StringIndexer_192bdcc94e63/data/ (stored 0%)\n",
            "  adding: GBT_Reg_CV/bestModel/stages/22_StringIndexer_192bdcc94e63/data/_SUCCESS (stored 0%)\n",
            "  adding: GBT_Reg_CV/bestModel/stages/22_StringIndexer_192bdcc94e63/data/._SUCCESS.crc (stored 0%)\n",
            "  adding: GBT_Reg_CV/bestModel/stages/22_StringIndexer_192bdcc94e63/data/.part-00000-994f1e50-657a-479d-b65e-76c83558a6b6-c000.snappy.parquet.crc (stored 0%)\n",
            "  adding: GBT_Reg_CV/bestModel/stages/22_StringIndexer_192bdcc94e63/data/part-00000-994f1e50-657a-479d-b65e-76c83558a6b6-c000.snappy.parquet (deflated 33%)\n",
            "  adding: GBT_Reg_CV/bestModel/stages/22_StringIndexer_192bdcc94e63/metadata/ (stored 0%)\n",
            "  adding: GBT_Reg_CV/bestModel/stages/22_StringIndexer_192bdcc94e63/metadata/_SUCCESS (stored 0%)\n",
            "  adding: GBT_Reg_CV/bestModel/stages/22_StringIndexer_192bdcc94e63/metadata/.part-00000.crc (stored 0%)\n",
            "  adding: GBT_Reg_CV/bestModel/stages/22_StringIndexer_192bdcc94e63/metadata/._SUCCESS.crc (stored 0%)\n",
            "  adding: GBT_Reg_CV/bestModel/stages/22_StringIndexer_192bdcc94e63/metadata/part-00000 (deflated 40%)\n",
            "  adding: GBT_Reg_CV/bestModel/stages/29_StringIndexer_7302d481b88d/ (stored 0%)\n",
            "  adding: GBT_Reg_CV/bestModel/stages/29_StringIndexer_7302d481b88d/data/ (stored 0%)\n",
            "  adding: GBT_Reg_CV/bestModel/stages/29_StringIndexer_7302d481b88d/data/_SUCCESS (stored 0%)\n",
            "  adding: GBT_Reg_CV/bestModel/stages/29_StringIndexer_7302d481b88d/data/._SUCCESS.crc (stored 0%)\n",
            "  adding: GBT_Reg_CV/bestModel/stages/29_StringIndexer_7302d481b88d/data/part-00000-e99637b1-1efc-483f-94aa-c7e74d37484f-c000.snappy.parquet (deflated 33%)\n",
            "  adding: GBT_Reg_CV/bestModel/stages/29_StringIndexer_7302d481b88d/data/.part-00000-e99637b1-1efc-483f-94aa-c7e74d37484f-c000.snappy.parquet.crc (stored 0%)\n",
            "  adding: GBT_Reg_CV/bestModel/stages/29_StringIndexer_7302d481b88d/metadata/ (stored 0%)\n",
            "  adding: GBT_Reg_CV/bestModel/stages/29_StringIndexer_7302d481b88d/metadata/_SUCCESS (stored 0%)\n",
            "  adding: GBT_Reg_CV/bestModel/stages/29_StringIndexer_7302d481b88d/metadata/.part-00000.crc (stored 0%)\n",
            "  adding: GBT_Reg_CV/bestModel/stages/29_StringIndexer_7302d481b88d/metadata/._SUCCESS.crc (stored 0%)\n",
            "  adding: GBT_Reg_CV/bestModel/stages/29_StringIndexer_7302d481b88d/metadata/part-00000 (deflated 39%)\n",
            "  adding: GBT_Reg_CV/bestModel/stages/34_OneHotEncoder_b61a52557e0d/ (stored 0%)\n",
            "  adding: GBT_Reg_CV/bestModel/stages/34_OneHotEncoder_b61a52557e0d/data/ (stored 0%)\n",
            "  adding: GBT_Reg_CV/bestModel/stages/34_OneHotEncoder_b61a52557e0d/data/_SUCCESS (stored 0%)\n",
            "  adding: GBT_Reg_CV/bestModel/stages/34_OneHotEncoder_b61a52557e0d/data/._SUCCESS.crc (stored 0%)\n",
            "  adding: GBT_Reg_CV/bestModel/stages/34_OneHotEncoder_b61a52557e0d/data/part-00000-3c65e920-0aa9-46e7-adea-b2d33016f8a2-c000.snappy.parquet (deflated 27%)\n",
            "  adding: GBT_Reg_CV/bestModel/stages/34_OneHotEncoder_b61a52557e0d/data/.part-00000-3c65e920-0aa9-46e7-adea-b2d33016f8a2-c000.snappy.parquet.crc (stored 0%)\n",
            "  adding: GBT_Reg_CV/bestModel/stages/34_OneHotEncoder_b61a52557e0d/metadata/ (stored 0%)\n",
            "  adding: GBT_Reg_CV/bestModel/stages/34_OneHotEncoder_b61a52557e0d/metadata/_SUCCESS (stored 0%)\n",
            "  adding: GBT_Reg_CV/bestModel/stages/34_OneHotEncoder_b61a52557e0d/metadata/.part-00000.crc (stored 0%)\n",
            "  adding: GBT_Reg_CV/bestModel/stages/34_OneHotEncoder_b61a52557e0d/metadata/._SUCCESS.crc (stored 0%)\n",
            "  adding: GBT_Reg_CV/bestModel/stages/34_OneHotEncoder_b61a52557e0d/metadata/part-00000 (deflated 65%)\n",
            "  adding: GBT_Reg_CV/bestModel/stages/24_StringIndexer_f5bf037a1999/ (stored 0%)\n",
            "  adding: GBT_Reg_CV/bestModel/stages/24_StringIndexer_f5bf037a1999/data/ (stored 0%)\n",
            "  adding: GBT_Reg_CV/bestModel/stages/24_StringIndexer_f5bf037a1999/data/_SUCCESS (stored 0%)\n",
            "  adding: GBT_Reg_CV/bestModel/stages/24_StringIndexer_f5bf037a1999/data/._SUCCESS.crc (stored 0%)\n",
            "  adding: GBT_Reg_CV/bestModel/stages/24_StringIndexer_f5bf037a1999/data/.part-00000-5ec2586a-7037-4c17-9161-1754e563c910-c000.snappy.parquet.crc (stored 0%)\n",
            "  adding: GBT_Reg_CV/bestModel/stages/24_StringIndexer_f5bf037a1999/data/part-00000-5ec2586a-7037-4c17-9161-1754e563c910-c000.snappy.parquet (deflated 34%)\n",
            "  adding: GBT_Reg_CV/bestModel/stages/24_StringIndexer_f5bf037a1999/metadata/ (stored 0%)\n",
            "  adding: GBT_Reg_CV/bestModel/stages/24_StringIndexer_f5bf037a1999/metadata/_SUCCESS (stored 0%)\n",
            "  adding: GBT_Reg_CV/bestModel/stages/24_StringIndexer_f5bf037a1999/metadata/.part-00000.crc (stored 0%)\n",
            "  adding: GBT_Reg_CV/bestModel/stages/24_StringIndexer_f5bf037a1999/metadata/._SUCCESS.crc (stored 0%)\n",
            "  adding: GBT_Reg_CV/bestModel/stages/24_StringIndexer_f5bf037a1999/metadata/part-00000 (deflated 40%)\n",
            "  adding: GBT_Reg_CV/bestModel/stages/09_StringIndexer_38caaf2b4c83/ (stored 0%)\n",
            "  adding: GBT_Reg_CV/bestModel/stages/09_StringIndexer_38caaf2b4c83/data/ (stored 0%)\n",
            "  adding: GBT_Reg_CV/bestModel/stages/09_StringIndexer_38caaf2b4c83/data/_SUCCESS (stored 0%)\n",
            "  adding: GBT_Reg_CV/bestModel/stages/09_StringIndexer_38caaf2b4c83/data/._SUCCESS.crc (stored 0%)\n",
            "  adding: GBT_Reg_CV/bestModel/stages/09_StringIndexer_38caaf2b4c83/data/part-00000-e6e7eb06-c07b-4235-8843-ea525089d640-c000.snappy.parquet (deflated 34%)\n",
            "  adding: GBT_Reg_CV/bestModel/stages/09_StringIndexer_38caaf2b4c83/data/.part-00000-e6e7eb06-c07b-4235-8843-ea525089d640-c000.snappy.parquet.crc (stored 0%)\n",
            "  adding: GBT_Reg_CV/bestModel/stages/09_StringIndexer_38caaf2b4c83/metadata/ (stored 0%)\n",
            "  adding: GBT_Reg_CV/bestModel/stages/09_StringIndexer_38caaf2b4c83/metadata/_SUCCESS (stored 0%)\n",
            "  adding: GBT_Reg_CV/bestModel/stages/09_StringIndexer_38caaf2b4c83/metadata/.part-00000.crc (stored 0%)\n",
            "  adding: GBT_Reg_CV/bestModel/stages/09_StringIndexer_38caaf2b4c83/metadata/._SUCCESS.crc (stored 0%)\n",
            "  adding: GBT_Reg_CV/bestModel/stages/09_StringIndexer_38caaf2b4c83/metadata/part-00000 (deflated 40%)\n",
            "  adding: GBT_Reg_CV/bestModel/stages/30_StringIndexer_fb115b91f073/ (stored 0%)\n",
            "  adding: GBT_Reg_CV/bestModel/stages/30_StringIndexer_fb115b91f073/data/ (stored 0%)\n",
            "  adding: GBT_Reg_CV/bestModel/stages/30_StringIndexer_fb115b91f073/data/_SUCCESS (stored 0%)\n",
            "  adding: GBT_Reg_CV/bestModel/stages/30_StringIndexer_fb115b91f073/data/part-00000-5574d6ce-859e-4c14-b444-51d981ff3306-c000.snappy.parquet (deflated 33%)\n",
            "  adding: GBT_Reg_CV/bestModel/stages/30_StringIndexer_fb115b91f073/data/.part-00000-5574d6ce-859e-4c14-b444-51d981ff3306-c000.snappy.parquet.crc (stored 0%)\n",
            "  adding: GBT_Reg_CV/bestModel/stages/30_StringIndexer_fb115b91f073/data/._SUCCESS.crc (stored 0%)\n",
            "  adding: GBT_Reg_CV/bestModel/stages/30_StringIndexer_fb115b91f073/metadata/ (stored 0%)\n",
            "  adding: GBT_Reg_CV/bestModel/stages/30_StringIndexer_fb115b91f073/metadata/_SUCCESS (stored 0%)\n",
            "  adding: GBT_Reg_CV/bestModel/stages/30_StringIndexer_fb115b91f073/metadata/.part-00000.crc (stored 0%)\n",
            "  adding: GBT_Reg_CV/bestModel/stages/30_StringIndexer_fb115b91f073/metadata/._SUCCESS.crc (stored 0%)\n",
            "  adding: GBT_Reg_CV/bestModel/stages/30_StringIndexer_fb115b91f073/metadata/part-00000 (deflated 39%)\n",
            "  adding: GBT_Reg_CV/bestModel/stages/13_StringIndexer_f64845f01ba5/ (stored 0%)\n",
            "  adding: GBT_Reg_CV/bestModel/stages/13_StringIndexer_f64845f01ba5/data/ (stored 0%)\n",
            "  adding: GBT_Reg_CV/bestModel/stages/13_StringIndexer_f64845f01ba5/data/_SUCCESS (stored 0%)\n",
            "  adding: GBT_Reg_CV/bestModel/stages/13_StringIndexer_f64845f01ba5/data/._SUCCESS.crc (stored 0%)\n",
            "  adding: GBT_Reg_CV/bestModel/stages/13_StringIndexer_f64845f01ba5/data/part-00000-3a38ca54-8769-492c-923a-fd73c733ed9f-c000.snappy.parquet (deflated 35%)\n",
            "  adding: GBT_Reg_CV/bestModel/stages/13_StringIndexer_f64845f01ba5/data/.part-00000-3a38ca54-8769-492c-923a-fd73c733ed9f-c000.snappy.parquet.crc (stored 0%)\n",
            "  adding: GBT_Reg_CV/bestModel/stages/13_StringIndexer_f64845f01ba5/metadata/ (stored 0%)\n",
            "  adding: GBT_Reg_CV/bestModel/stages/13_StringIndexer_f64845f01ba5/metadata/_SUCCESS (stored 0%)\n",
            "  adding: GBT_Reg_CV/bestModel/stages/13_StringIndexer_f64845f01ba5/metadata/.part-00000.crc (stored 0%)\n",
            "  adding: GBT_Reg_CV/bestModel/stages/13_StringIndexer_f64845f01ba5/metadata/._SUCCESS.crc (stored 0%)\n",
            "  adding: GBT_Reg_CV/bestModel/stages/13_StringIndexer_f64845f01ba5/metadata/part-00000 (deflated 39%)\n",
            "  adding: GBT_Reg_CV/bestModel/stages/01_StringIndexer_7323f0fb9f00/ (stored 0%)\n",
            "  adding: GBT_Reg_CV/bestModel/stages/01_StringIndexer_7323f0fb9f00/data/ (stored 0%)\n",
            "  adding: GBT_Reg_CV/bestModel/stages/01_StringIndexer_7323f0fb9f00/data/_SUCCESS (stored 0%)\n",
            "  adding: GBT_Reg_CV/bestModel/stages/01_StringIndexer_7323f0fb9f00/data/._SUCCESS.crc (stored 0%)\n",
            "  adding: GBT_Reg_CV/bestModel/stages/01_StringIndexer_7323f0fb9f00/data/.part-00000-4ffc8496-cfce-4e90-aa28-0b371bed38fe-c000.snappy.parquet.crc (stored 0%)\n",
            "  adding: GBT_Reg_CV/bestModel/stages/01_StringIndexer_7323f0fb9f00/data/part-00000-4ffc8496-cfce-4e90-aa28-0b371bed38fe-c000.snappy.parquet (deflated 35%)\n",
            "  adding: GBT_Reg_CV/bestModel/stages/01_StringIndexer_7323f0fb9f00/metadata/ (stored 0%)\n",
            "  adding: GBT_Reg_CV/bestModel/stages/01_StringIndexer_7323f0fb9f00/metadata/_SUCCESS (stored 0%)\n",
            "  adding: GBT_Reg_CV/bestModel/stages/01_StringIndexer_7323f0fb9f00/metadata/.part-00000.crc (stored 0%)\n",
            "  adding: GBT_Reg_CV/bestModel/stages/01_StringIndexer_7323f0fb9f00/metadata/._SUCCESS.crc (stored 0%)\n",
            "  adding: GBT_Reg_CV/bestModel/stages/01_StringIndexer_7323f0fb9f00/metadata/part-00000 (deflated 39%)\n",
            "  adding: GBT_Reg_CV/bestModel/stages/18_StringIndexer_089f7c180207/ (stored 0%)\n",
            "  adding: GBT_Reg_CV/bestModel/stages/18_StringIndexer_089f7c180207/data/ (stored 0%)\n",
            "  adding: GBT_Reg_CV/bestModel/stages/18_StringIndexer_089f7c180207/data/_SUCCESS (stored 0%)\n",
            "  adding: GBT_Reg_CV/bestModel/stages/18_StringIndexer_089f7c180207/data/._SUCCESS.crc (stored 0%)\n",
            "  adding: GBT_Reg_CV/bestModel/stages/18_StringIndexer_089f7c180207/data/part-00000-c1c74e53-32f1-47f8-b2a7-4415a3807035-c000.snappy.parquet (deflated 34%)\n",
            "  adding: GBT_Reg_CV/bestModel/stages/18_StringIndexer_089f7c180207/data/.part-00000-c1c74e53-32f1-47f8-b2a7-4415a3807035-c000.snappy.parquet.crc (stored 0%)\n",
            "  adding: GBT_Reg_CV/bestModel/stages/18_StringIndexer_089f7c180207/metadata/ (stored 0%)\n",
            "  adding: GBT_Reg_CV/bestModel/stages/18_StringIndexer_089f7c180207/metadata/_SUCCESS (stored 0%)\n",
            "  adding: GBT_Reg_CV/bestModel/stages/18_StringIndexer_089f7c180207/metadata/.part-00000.crc (stored 0%)\n",
            "  adding: GBT_Reg_CV/bestModel/stages/18_StringIndexer_089f7c180207/metadata/._SUCCESS.crc (stored 0%)\n",
            "  adding: GBT_Reg_CV/bestModel/stages/18_StringIndexer_089f7c180207/metadata/part-00000 (deflated 39%)\n",
            "  adding: GBT_Reg_CV/bestModel/stages/31_StringIndexer_53915b806363/ (stored 0%)\n",
            "  adding: GBT_Reg_CV/bestModel/stages/31_StringIndexer_53915b806363/data/ (stored 0%)\n",
            "  adding: GBT_Reg_CV/bestModel/stages/31_StringIndexer_53915b806363/data/_SUCCESS (stored 0%)\n",
            "  adding: GBT_Reg_CV/bestModel/stages/31_StringIndexer_53915b806363/data/.part-00000-318d3c49-1cda-4c2f-b1c7-6036f76dc9f2-c000.snappy.parquet.crc (stored 0%)\n",
            "  adding: GBT_Reg_CV/bestModel/stages/31_StringIndexer_53915b806363/data/part-00000-318d3c49-1cda-4c2f-b1c7-6036f76dc9f2-c000.snappy.parquet (deflated 35%)\n",
            "  adding: GBT_Reg_CV/bestModel/stages/31_StringIndexer_53915b806363/data/._SUCCESS.crc (stored 0%)\n",
            "  adding: GBT_Reg_CV/bestModel/stages/31_StringIndexer_53915b806363/metadata/ (stored 0%)\n",
            "  adding: GBT_Reg_CV/bestModel/stages/31_StringIndexer_53915b806363/metadata/_SUCCESS (stored 0%)\n",
            "  adding: GBT_Reg_CV/bestModel/stages/31_StringIndexer_53915b806363/metadata/.part-00000.crc (stored 0%)\n",
            "  adding: GBT_Reg_CV/bestModel/stages/31_StringIndexer_53915b806363/metadata/._SUCCESS.crc (stored 0%)\n",
            "  adding: GBT_Reg_CV/bestModel/stages/31_StringIndexer_53915b806363/metadata/part-00000 (deflated 39%)\n",
            "  adding: GBT_Reg_CV/bestModel/stages/23_StringIndexer_8c23df92c2c7/ (stored 0%)\n",
            "  adding: GBT_Reg_CV/bestModel/stages/23_StringIndexer_8c23df92c2c7/data/ (stored 0%)\n",
            "  adding: GBT_Reg_CV/bestModel/stages/23_StringIndexer_8c23df92c2c7/data/_SUCCESS (stored 0%)\n",
            "  adding: GBT_Reg_CV/bestModel/stages/23_StringIndexer_8c23df92c2c7/data/.part-00000-4becd6ea-eb2d-4efc-9498-02bedebed3ed-c000.snappy.parquet.crc (stored 0%)\n",
            "  adding: GBT_Reg_CV/bestModel/stages/23_StringIndexer_8c23df92c2c7/data/._SUCCESS.crc (stored 0%)\n",
            "  adding: GBT_Reg_CV/bestModel/stages/23_StringIndexer_8c23df92c2c7/data/part-00000-4becd6ea-eb2d-4efc-9498-02bedebed3ed-c000.snappy.parquet (deflated 35%)\n",
            "  adding: GBT_Reg_CV/bestModel/stages/23_StringIndexer_8c23df92c2c7/metadata/ (stored 0%)\n",
            "  adding: GBT_Reg_CV/bestModel/stages/23_StringIndexer_8c23df92c2c7/metadata/_SUCCESS (stored 0%)\n",
            "  adding: GBT_Reg_CV/bestModel/stages/23_StringIndexer_8c23df92c2c7/metadata/.part-00000.crc (stored 0%)\n",
            "  adding: GBT_Reg_CV/bestModel/stages/23_StringIndexer_8c23df92c2c7/metadata/._SUCCESS.crc (stored 0%)\n",
            "  adding: GBT_Reg_CV/bestModel/stages/23_StringIndexer_8c23df92c2c7/metadata/part-00000 (deflated 40%)\n",
            "  adding: GBT_Reg_CV/bestModel/stages/21_StringIndexer_50402281e2c5/ (stored 0%)\n",
            "  adding: GBT_Reg_CV/bestModel/stages/21_StringIndexer_50402281e2c5/data/ (stored 0%)\n",
            "  adding: GBT_Reg_CV/bestModel/stages/21_StringIndexer_50402281e2c5/data/_SUCCESS (stored 0%)\n",
            "  adding: GBT_Reg_CV/bestModel/stages/21_StringIndexer_50402281e2c5/data/part-00000-f104cd3f-3638-4121-acd6-b89d96a48521-c000.snappy.parquet (deflated 34%)\n",
            "  adding: GBT_Reg_CV/bestModel/stages/21_StringIndexer_50402281e2c5/data/._SUCCESS.crc (stored 0%)\n",
            "  adding: GBT_Reg_CV/bestModel/stages/21_StringIndexer_50402281e2c5/data/.part-00000-f104cd3f-3638-4121-acd6-b89d96a48521-c000.snappy.parquet.crc (stored 0%)\n",
            "  adding: GBT_Reg_CV/bestModel/stages/21_StringIndexer_50402281e2c5/metadata/ (stored 0%)\n",
            "  adding: GBT_Reg_CV/bestModel/stages/21_StringIndexer_50402281e2c5/metadata/_SUCCESS (stored 0%)\n",
            "  adding: GBT_Reg_CV/bestModel/stages/21_StringIndexer_50402281e2c5/metadata/.part-00000.crc (stored 0%)\n",
            "  adding: GBT_Reg_CV/bestModel/stages/21_StringIndexer_50402281e2c5/metadata/._SUCCESS.crc (stored 0%)\n",
            "  adding: GBT_Reg_CV/bestModel/stages/21_StringIndexer_50402281e2c5/metadata/part-00000 (deflated 40%)\n",
            "  adding: GBT_Reg_CV/bestModel/stages/37_GBTRegressor_eb240e038117/ (stored 0%)\n",
            "  adding: GBT_Reg_CV/bestModel/stages/37_GBTRegressor_eb240e038117/data/ (stored 0%)\n",
            "  adding: GBT_Reg_CV/bestModel/stages/37_GBTRegressor_eb240e038117/data/_SUCCESS (stored 0%)\n",
            "  adding: GBT_Reg_CV/bestModel/stages/37_GBTRegressor_eb240e038117/data/._SUCCESS.crc (stored 0%)\n",
            "  adding: GBT_Reg_CV/bestModel/stages/37_GBTRegressor_eb240e038117/data/.part-00000-e4f5f63b-59ac-464a-b9df-7997359d6a2e-c000.snappy.parquet.crc (stored 0%)\n",
            "  adding: GBT_Reg_CV/bestModel/stages/37_GBTRegressor_eb240e038117/data/part-00000-e4f5f63b-59ac-464a-b9df-7997359d6a2e-c000.snappy.parquet (deflated 27%)\n",
            "  adding: GBT_Reg_CV/bestModel/stages/37_GBTRegressor_eb240e038117/treesMetadata/ (stored 0%)\n",
            "  adding: GBT_Reg_CV/bestModel/stages/37_GBTRegressor_eb240e038117/treesMetadata/_SUCCESS (stored 0%)\n",
            "  adding: GBT_Reg_CV/bestModel/stages/37_GBTRegressor_eb240e038117/treesMetadata/._SUCCESS.crc (stored 0%)\n",
            "  adding: GBT_Reg_CV/bestModel/stages/37_GBTRegressor_eb240e038117/treesMetadata/part-00000-d134f848-feca-489e-9c92-c4f5b15ecc39-c000.snappy.parquet (deflated 40%)\n",
            "  adding: GBT_Reg_CV/bestModel/stages/37_GBTRegressor_eb240e038117/treesMetadata/.part-00000-d134f848-feca-489e-9c92-c4f5b15ecc39-c000.snappy.parquet.crc (stored 0%)\n",
            "  adding: GBT_Reg_CV/bestModel/stages/37_GBTRegressor_eb240e038117/metadata/ (stored 0%)\n",
            "  adding: GBT_Reg_CV/bestModel/stages/37_GBTRegressor_eb240e038117/metadata/_SUCCESS (stored 0%)\n",
            "  adding: GBT_Reg_CV/bestModel/stages/37_GBTRegressor_eb240e038117/metadata/.part-00000.crc (stored 0%)\n",
            "  adding: GBT_Reg_CV/bestModel/stages/37_GBTRegressor_eb240e038117/metadata/._SUCCESS.crc (stored 0%)\n",
            "  adding: GBT_Reg_CV/bestModel/stages/37_GBTRegressor_eb240e038117/metadata/part-00000 (deflated 41%)\n",
            "  adding: GBT_Reg_CV/bestModel/stages/19_StringIndexer_2b12c0625a8d/ (stored 0%)\n",
            "  adding: GBT_Reg_CV/bestModel/stages/19_StringIndexer_2b12c0625a8d/data/ (stored 0%)\n",
            "  adding: GBT_Reg_CV/bestModel/stages/19_StringIndexer_2b12c0625a8d/data/part-00000-4d4ef425-08c4-4aa0-b27e-ba84d5f5a622-c000.snappy.parquet (deflated 34%)\n",
            "  adding: GBT_Reg_CV/bestModel/stages/19_StringIndexer_2b12c0625a8d/data/_SUCCESS (stored 0%)\n",
            "  adding: GBT_Reg_CV/bestModel/stages/19_StringIndexer_2b12c0625a8d/data/.part-00000-4d4ef425-08c4-4aa0-b27e-ba84d5f5a622-c000.snappy.parquet.crc (stored 0%)\n",
            "  adding: GBT_Reg_CV/bestModel/stages/19_StringIndexer_2b12c0625a8d/data/._SUCCESS.crc (stored 0%)\n",
            "  adding: GBT_Reg_CV/bestModel/stages/19_StringIndexer_2b12c0625a8d/metadata/ (stored 0%)\n",
            "  adding: GBT_Reg_CV/bestModel/stages/19_StringIndexer_2b12c0625a8d/metadata/_SUCCESS (stored 0%)\n",
            "  adding: GBT_Reg_CV/bestModel/stages/19_StringIndexer_2b12c0625a8d/metadata/.part-00000.crc (stored 0%)\n",
            "  adding: GBT_Reg_CV/bestModel/stages/19_StringIndexer_2b12c0625a8d/metadata/._SUCCESS.crc (stored 0%)\n",
            "  adding: GBT_Reg_CV/bestModel/stages/19_StringIndexer_2b12c0625a8d/metadata/part-00000 (deflated 40%)\n",
            "  adding: GBT_Reg_CV/bestModel/stages/11_StringIndexer_9773b87b47f6/ (stored 0%)\n",
            "  adding: GBT_Reg_CV/bestModel/stages/11_StringIndexer_9773b87b47f6/data/ (stored 0%)\n",
            "  adding: GBT_Reg_CV/bestModel/stages/11_StringIndexer_9773b87b47f6/data/_SUCCESS (stored 0%)\n",
            "  adding: GBT_Reg_CV/bestModel/stages/11_StringIndexer_9773b87b47f6/data/._SUCCESS.crc (stored 0%)\n",
            "  adding: GBT_Reg_CV/bestModel/stages/11_StringIndexer_9773b87b47f6/data/part-00000-017b614d-4f76-482e-8cd8-a088bd57ceb4-c000.snappy.parquet (deflated 33%)\n",
            "  adding: GBT_Reg_CV/bestModel/stages/11_StringIndexer_9773b87b47f6/data/.part-00000-017b614d-4f76-482e-8cd8-a088bd57ceb4-c000.snappy.parquet.crc (stored 0%)\n",
            "  adding: GBT_Reg_CV/bestModel/stages/11_StringIndexer_9773b87b47f6/metadata/ (stored 0%)\n",
            "  adding: GBT_Reg_CV/bestModel/stages/11_StringIndexer_9773b87b47f6/metadata/_SUCCESS (stored 0%)\n",
            "  adding: GBT_Reg_CV/bestModel/stages/11_StringIndexer_9773b87b47f6/metadata/.part-00000.crc (stored 0%)\n",
            "  adding: GBT_Reg_CV/bestModel/stages/11_StringIndexer_9773b87b47f6/metadata/._SUCCESS.crc (stored 0%)\n",
            "  adding: GBT_Reg_CV/bestModel/stages/11_StringIndexer_9773b87b47f6/metadata/part-00000 (deflated 40%)\n",
            "  adding: GBT_Reg_CV/bestModel/stages/10_StringIndexer_f6146d101838/ (stored 0%)\n",
            "  adding: GBT_Reg_CV/bestModel/stages/10_StringIndexer_f6146d101838/data/ (stored 0%)\n",
            "  adding: GBT_Reg_CV/bestModel/stages/10_StringIndexer_f6146d101838/data/part-00000-71978b54-c5c4-4835-99dc-04f78e1deefe-c000.snappy.parquet (deflated 34%)\n",
            "  adding: GBT_Reg_CV/bestModel/stages/10_StringIndexer_f6146d101838/data/_SUCCESS (stored 0%)\n",
            "  adding: GBT_Reg_CV/bestModel/stages/10_StringIndexer_f6146d101838/data/.part-00000-71978b54-c5c4-4835-99dc-04f78e1deefe-c000.snappy.parquet.crc (stored 0%)\n",
            "  adding: GBT_Reg_CV/bestModel/stages/10_StringIndexer_f6146d101838/data/._SUCCESS.crc (stored 0%)\n",
            "  adding: GBT_Reg_CV/bestModel/stages/10_StringIndexer_f6146d101838/metadata/ (stored 0%)\n",
            "  adding: GBT_Reg_CV/bestModel/stages/10_StringIndexer_f6146d101838/metadata/_SUCCESS (stored 0%)\n",
            "  adding: GBT_Reg_CV/bestModel/stages/10_StringIndexer_f6146d101838/metadata/.part-00000.crc (stored 0%)\n",
            "  adding: GBT_Reg_CV/bestModel/stages/10_StringIndexer_f6146d101838/metadata/._SUCCESS.crc (stored 0%)\n",
            "  adding: GBT_Reg_CV/bestModel/stages/10_StringIndexer_f6146d101838/metadata/part-00000 (deflated 40%)\n",
            "  adding: GBT_Reg_CV/bestModel/stages/35_VectorAssembler_7a25b85c41d4/ (stored 0%)\n",
            "  adding: GBT_Reg_CV/bestModel/stages/35_VectorAssembler_7a25b85c41d4/metadata/ (stored 0%)\n",
            "  adding: GBT_Reg_CV/bestModel/stages/35_VectorAssembler_7a25b85c41d4/metadata/_SUCCESS (stored 0%)\n",
            "  adding: GBT_Reg_CV/bestModel/stages/35_VectorAssembler_7a25b85c41d4/metadata/.part-00000.crc (stored 0%)\n",
            "  adding: GBT_Reg_CV/bestModel/stages/35_VectorAssembler_7a25b85c41d4/metadata/._SUCCESS.crc (stored 0%)\n",
            "  adding: GBT_Reg_CV/bestModel/stages/35_VectorAssembler_7a25b85c41d4/metadata/part-00000 (deflated 53%)\n",
            "  adding: GBT_Reg_CV/bestModel/stages/33_StringIndexer_d5b35265329d/ (stored 0%)\n",
            "  adding: GBT_Reg_CV/bestModel/stages/33_StringIndexer_d5b35265329d/data/ (stored 0%)\n",
            "  adding: GBT_Reg_CV/bestModel/stages/33_StringIndexer_d5b35265329d/data/_SUCCESS (stored 0%)\n",
            "  adding: GBT_Reg_CV/bestModel/stages/33_StringIndexer_d5b35265329d/data/.part-00000-44604bd3-78c1-4e30-b195-496284329fbb-c000.snappy.parquet.crc (stored 0%)\n",
            "  adding: GBT_Reg_CV/bestModel/stages/33_StringIndexer_d5b35265329d/data/part-00000-44604bd3-78c1-4e30-b195-496284329fbb-c000.snappy.parquet (deflated 35%)\n",
            "  adding: GBT_Reg_CV/bestModel/stages/33_StringIndexer_d5b35265329d/data/._SUCCESS.crc (stored 0%)\n",
            "  adding: GBT_Reg_CV/bestModel/stages/33_StringIndexer_d5b35265329d/metadata/ (stored 0%)\n",
            "  adding: GBT_Reg_CV/bestModel/stages/33_StringIndexer_d5b35265329d/metadata/_SUCCESS (stored 0%)\n",
            "  adding: GBT_Reg_CV/bestModel/stages/33_StringIndexer_d5b35265329d/metadata/.part-00000.crc (stored 0%)\n",
            "  adding: GBT_Reg_CV/bestModel/stages/33_StringIndexer_d5b35265329d/metadata/._SUCCESS.crc (stored 0%)\n",
            "  adding: GBT_Reg_CV/bestModel/stages/33_StringIndexer_d5b35265329d/metadata/part-00000 (deflated 40%)\n",
            "  adding: GBT_Reg_CV/bestModel/stages/28_StringIndexer_aa41fbce61c1/ (stored 0%)\n",
            "  adding: GBT_Reg_CV/bestModel/stages/28_StringIndexer_aa41fbce61c1/data/ (stored 0%)\n",
            "  adding: GBT_Reg_CV/bestModel/stages/28_StringIndexer_aa41fbce61c1/data/_SUCCESS (stored 0%)\n",
            "  adding: GBT_Reg_CV/bestModel/stages/28_StringIndexer_aa41fbce61c1/data/part-00000-dbb9586d-1137-47d2-bb7c-80d166750c88-c000.snappy.parquet (deflated 34%)\n",
            "  adding: GBT_Reg_CV/bestModel/stages/28_StringIndexer_aa41fbce61c1/data/._SUCCESS.crc (stored 0%)\n",
            "  adding: GBT_Reg_CV/bestModel/stages/28_StringIndexer_aa41fbce61c1/data/.part-00000-dbb9586d-1137-47d2-bb7c-80d166750c88-c000.snappy.parquet.crc (stored 0%)\n",
            "  adding: GBT_Reg_CV/bestModel/stages/28_StringIndexer_aa41fbce61c1/metadata/ (stored 0%)\n",
            "  adding: GBT_Reg_CV/bestModel/stages/28_StringIndexer_aa41fbce61c1/metadata/_SUCCESS (stored 0%)\n",
            "  adding: GBT_Reg_CV/bestModel/stages/28_StringIndexer_aa41fbce61c1/metadata/.part-00000.crc (stored 0%)\n",
            "  adding: GBT_Reg_CV/bestModel/stages/28_StringIndexer_aa41fbce61c1/metadata/._SUCCESS.crc (stored 0%)\n",
            "  adding: GBT_Reg_CV/bestModel/stages/28_StringIndexer_aa41fbce61c1/metadata/part-00000 (deflated 40%)\n",
            "  adding: GBT_Reg_CV/bestModel/stages/08_StringIndexer_738cbc482f90/ (stored 0%)\n",
            "  adding: GBT_Reg_CV/bestModel/stages/08_StringIndexer_738cbc482f90/data/ (stored 0%)\n",
            "  adding: GBT_Reg_CV/bestModel/stages/08_StringIndexer_738cbc482f90/data/_SUCCESS (stored 0%)\n",
            "  adding: GBT_Reg_CV/bestModel/stages/08_StringIndexer_738cbc482f90/data/._SUCCESS.crc (stored 0%)\n",
            "  adding: GBT_Reg_CV/bestModel/stages/08_StringIndexer_738cbc482f90/data/part-00000-f90a5eb6-1177-4792-8e0a-1f8966b3ff66-c000.snappy.parquet (deflated 34%)\n",
            "  adding: GBT_Reg_CV/bestModel/stages/08_StringIndexer_738cbc482f90/data/.part-00000-f90a5eb6-1177-4792-8e0a-1f8966b3ff66-c000.snappy.parquet.crc (stored 0%)\n",
            "  adding: GBT_Reg_CV/bestModel/stages/08_StringIndexer_738cbc482f90/metadata/ (stored 0%)\n",
            "  adding: GBT_Reg_CV/bestModel/stages/08_StringIndexer_738cbc482f90/metadata/_SUCCESS (stored 0%)\n",
            "  adding: GBT_Reg_CV/bestModel/stages/08_StringIndexer_738cbc482f90/metadata/.part-00000.crc (stored 0%)\n",
            "  adding: GBT_Reg_CV/bestModel/stages/08_StringIndexer_738cbc482f90/metadata/._SUCCESS.crc (stored 0%)\n",
            "  adding: GBT_Reg_CV/bestModel/stages/08_StringIndexer_738cbc482f90/metadata/part-00000 (deflated 40%)\n",
            "  adding: GBT_Reg_CV/bestModel/stages/03_StringIndexer_542c8c152b6b/ (stored 0%)\n",
            "  adding: GBT_Reg_CV/bestModel/stages/03_StringIndexer_542c8c152b6b/data/ (stored 0%)\n",
            "  adding: GBT_Reg_CV/bestModel/stages/03_StringIndexer_542c8c152b6b/data/_SUCCESS (stored 0%)\n",
            "  adding: GBT_Reg_CV/bestModel/stages/03_StringIndexer_542c8c152b6b/data/._SUCCESS.crc (stored 0%)\n",
            "  adding: GBT_Reg_CV/bestModel/stages/03_StringIndexer_542c8c152b6b/data/part-00000-eced2a85-a24b-4790-ba73-819368f7d0f4-c000.snappy.parquet (deflated 34%)\n",
            "  adding: GBT_Reg_CV/bestModel/stages/03_StringIndexer_542c8c152b6b/data/.part-00000-eced2a85-a24b-4790-ba73-819368f7d0f4-c000.snappy.parquet.crc (stored 0%)\n",
            "  adding: GBT_Reg_CV/bestModel/stages/03_StringIndexer_542c8c152b6b/metadata/ (stored 0%)\n",
            "  adding: GBT_Reg_CV/bestModel/stages/03_StringIndexer_542c8c152b6b/metadata/_SUCCESS (stored 0%)\n",
            "  adding: GBT_Reg_CV/bestModel/stages/03_StringIndexer_542c8c152b6b/metadata/.part-00000.crc (stored 0%)\n",
            "  adding: GBT_Reg_CV/bestModel/stages/03_StringIndexer_542c8c152b6b/metadata/._SUCCESS.crc (stored 0%)\n",
            "  adding: GBT_Reg_CV/bestModel/stages/03_StringIndexer_542c8c152b6b/metadata/part-00000 (deflated 40%)\n",
            "  adding: GBT_Reg_CV/bestModel/stages/05_StringIndexer_5416d690852f/ (stored 0%)\n",
            "  adding: GBT_Reg_CV/bestModel/stages/05_StringIndexer_5416d690852f/data/ (stored 0%)\n",
            "  adding: GBT_Reg_CV/bestModel/stages/05_StringIndexer_5416d690852f/data/_SUCCESS (stored 0%)\n",
            "  adding: GBT_Reg_CV/bestModel/stages/05_StringIndexer_5416d690852f/data/._SUCCESS.crc (stored 0%)\n",
            "  adding: GBT_Reg_CV/bestModel/stages/05_StringIndexer_5416d690852f/data/part-00000-8052a5a1-6ca7-40c4-916e-0e171731d69f-c000.snappy.parquet (deflated 35%)\n",
            "  adding: GBT_Reg_CV/bestModel/stages/05_StringIndexer_5416d690852f/data/.part-00000-8052a5a1-6ca7-40c4-916e-0e171731d69f-c000.snappy.parquet.crc (stored 0%)\n",
            "  adding: GBT_Reg_CV/bestModel/stages/05_StringIndexer_5416d690852f/metadata/ (stored 0%)\n",
            "  adding: GBT_Reg_CV/bestModel/stages/05_StringIndexer_5416d690852f/metadata/_SUCCESS (stored 0%)\n",
            "  adding: GBT_Reg_CV/bestModel/stages/05_StringIndexer_5416d690852f/metadata/.part-00000.crc (stored 0%)\n",
            "  adding: GBT_Reg_CV/bestModel/stages/05_StringIndexer_5416d690852f/metadata/._SUCCESS.crc (stored 0%)\n",
            "  adding: GBT_Reg_CV/bestModel/stages/05_StringIndexer_5416d690852f/metadata/part-00000 (deflated 40%)\n",
            "  adding: GBT_Reg_CV/bestModel/stages/27_StringIndexer_4a76a44b8076/ (stored 0%)\n",
            "  adding: GBT_Reg_CV/bestModel/stages/27_StringIndexer_4a76a44b8076/data/ (stored 0%)\n",
            "  adding: GBT_Reg_CV/bestModel/stages/27_StringIndexer_4a76a44b8076/data/_SUCCESS (stored 0%)\n",
            "  adding: GBT_Reg_CV/bestModel/stages/27_StringIndexer_4a76a44b8076/data/.part-00000-89cdf6da-0754-4be9-a47e-4d7f8b91cd52-c000.snappy.parquet.crc (stored 0%)\n",
            "  adding: GBT_Reg_CV/bestModel/stages/27_StringIndexer_4a76a44b8076/data/._SUCCESS.crc (stored 0%)\n",
            "  adding: GBT_Reg_CV/bestModel/stages/27_StringIndexer_4a76a44b8076/data/part-00000-89cdf6da-0754-4be9-a47e-4d7f8b91cd52-c000.snappy.parquet (deflated 34%)\n",
            "  adding: GBT_Reg_CV/bestModel/stages/27_StringIndexer_4a76a44b8076/metadata/ (stored 0%)\n",
            "  adding: GBT_Reg_CV/bestModel/stages/27_StringIndexer_4a76a44b8076/metadata/_SUCCESS (stored 0%)\n",
            "  adding: GBT_Reg_CV/bestModel/stages/27_StringIndexer_4a76a44b8076/metadata/.part-00000.crc (stored 0%)\n",
            "  adding: GBT_Reg_CV/bestModel/stages/27_StringIndexer_4a76a44b8076/metadata/._SUCCESS.crc (stored 0%)\n",
            "  adding: GBT_Reg_CV/bestModel/stages/27_StringIndexer_4a76a44b8076/metadata/part-00000 (deflated 40%)\n",
            "  adding: GBT_Reg_CV/bestModel/stages/02_StringIndexer_8f48fde5bdb5/ (stored 0%)\n",
            "  adding: GBT_Reg_CV/bestModel/stages/02_StringIndexer_8f48fde5bdb5/data/ (stored 0%)\n",
            "  adding: GBT_Reg_CV/bestModel/stages/02_StringIndexer_8f48fde5bdb5/data/part-00000-0bcb05c5-2ce6-465e-b39d-90d05ee5e3d5-c000.snappy.parquet (deflated 34%)\n",
            "  adding: GBT_Reg_CV/bestModel/stages/02_StringIndexer_8f48fde5bdb5/data/_SUCCESS (stored 0%)\n",
            "  adding: GBT_Reg_CV/bestModel/stages/02_StringIndexer_8f48fde5bdb5/data/.part-00000-0bcb05c5-2ce6-465e-b39d-90d05ee5e3d5-c000.snappy.parquet.crc (stored 0%)\n",
            "  adding: GBT_Reg_CV/bestModel/stages/02_StringIndexer_8f48fde5bdb5/data/._SUCCESS.crc (stored 0%)\n",
            "  adding: GBT_Reg_CV/bestModel/stages/02_StringIndexer_8f48fde5bdb5/metadata/ (stored 0%)\n",
            "  adding: GBT_Reg_CV/bestModel/stages/02_StringIndexer_8f48fde5bdb5/metadata/_SUCCESS (stored 0%)\n",
            "  adding: GBT_Reg_CV/bestModel/stages/02_StringIndexer_8f48fde5bdb5/metadata/.part-00000.crc (stored 0%)\n",
            "  adding: GBT_Reg_CV/bestModel/stages/02_StringIndexer_8f48fde5bdb5/metadata/._SUCCESS.crc (stored 0%)\n",
            "  adding: GBT_Reg_CV/bestModel/stages/02_StringIndexer_8f48fde5bdb5/metadata/part-00000 (deflated 38%)\n",
            "  adding: GBT_Reg_CV/bestModel/stages/32_StringIndexer_3e0ddbaeb406/ (stored 0%)\n",
            "  adding: GBT_Reg_CV/bestModel/stages/32_StringIndexer_3e0ddbaeb406/data/ (stored 0%)\n",
            "  adding: GBT_Reg_CV/bestModel/stages/32_StringIndexer_3e0ddbaeb406/data/_SUCCESS (stored 0%)\n",
            "  adding: GBT_Reg_CV/bestModel/stages/32_StringIndexer_3e0ddbaeb406/data/.part-00000-2c5ff9a8-acbc-4607-bb02-18859d5fba0d-c000.snappy.parquet.crc (stored 0%)\n",
            "  adding: GBT_Reg_CV/bestModel/stages/32_StringIndexer_3e0ddbaeb406/data/._SUCCESS.crc (stored 0%)\n",
            "  adding: GBT_Reg_CV/bestModel/stages/32_StringIndexer_3e0ddbaeb406/data/part-00000-2c5ff9a8-acbc-4607-bb02-18859d5fba0d-c000.snappy.parquet (deflated 33%)\n",
            "  adding: GBT_Reg_CV/bestModel/stages/32_StringIndexer_3e0ddbaeb406/metadata/ (stored 0%)\n",
            "  adding: GBT_Reg_CV/bestModel/stages/32_StringIndexer_3e0ddbaeb406/metadata/_SUCCESS (stored 0%)\n",
            "  adding: GBT_Reg_CV/bestModel/stages/32_StringIndexer_3e0ddbaeb406/metadata/.part-00000.crc (stored 0%)\n",
            "  adding: GBT_Reg_CV/bestModel/stages/32_StringIndexer_3e0ddbaeb406/metadata/._SUCCESS.crc (stored 0%)\n",
            "  adding: GBT_Reg_CV/bestModel/stages/32_StringIndexer_3e0ddbaeb406/metadata/part-00000 (deflated 40%)\n",
            "  adding: GBT_Reg_CV/bestModel/stages/25_StringIndexer_183cd65354aa/ (stored 0%)\n",
            "  adding: GBT_Reg_CV/bestModel/stages/25_StringIndexer_183cd65354aa/data/ (stored 0%)\n",
            "  adding: GBT_Reg_CV/bestModel/stages/25_StringIndexer_183cd65354aa/data/_SUCCESS (stored 0%)\n",
            "  adding: GBT_Reg_CV/bestModel/stages/25_StringIndexer_183cd65354aa/data/part-00000-86cea287-7e8f-4f9f-99a3-659a1a911043-c000.snappy.parquet (deflated 34%)\n",
            "  adding: GBT_Reg_CV/bestModel/stages/25_StringIndexer_183cd65354aa/data/._SUCCESS.crc (stored 0%)\n",
            "  adding: GBT_Reg_CV/bestModel/stages/25_StringIndexer_183cd65354aa/data/.part-00000-86cea287-7e8f-4f9f-99a3-659a1a911043-c000.snappy.parquet.crc (stored 0%)\n",
            "  adding: GBT_Reg_CV/bestModel/stages/25_StringIndexer_183cd65354aa/metadata/ (stored 0%)\n",
            "  adding: GBT_Reg_CV/bestModel/stages/25_StringIndexer_183cd65354aa/metadata/_SUCCESS (stored 0%)\n",
            "  adding: GBT_Reg_CV/bestModel/stages/25_StringIndexer_183cd65354aa/metadata/.part-00000.crc (stored 0%)\n",
            "  adding: GBT_Reg_CV/bestModel/stages/25_StringIndexer_183cd65354aa/metadata/._SUCCESS.crc (stored 0%)\n",
            "  adding: GBT_Reg_CV/bestModel/stages/25_StringIndexer_183cd65354aa/metadata/part-00000 (deflated 40%)\n",
            "  adding: GBT_Reg_CV/bestModel/stages/07_StringIndexer_ee96c43adc1d/ (stored 0%)\n",
            "  adding: GBT_Reg_CV/bestModel/stages/07_StringIndexer_ee96c43adc1d/data/ (stored 0%)\n",
            "  adding: GBT_Reg_CV/bestModel/stages/07_StringIndexer_ee96c43adc1d/data/_SUCCESS (stored 0%)\n",
            "  adding: GBT_Reg_CV/bestModel/stages/07_StringIndexer_ee96c43adc1d/data/.part-00000-b0bc7c2c-3132-48bd-9771-14cd2fc15901-c000.snappy.parquet.crc (stored 0%)\n",
            "  adding: GBT_Reg_CV/bestModel/stages/07_StringIndexer_ee96c43adc1d/data/._SUCCESS.crc (stored 0%)\n",
            "  adding: GBT_Reg_CV/bestModel/stages/07_StringIndexer_ee96c43adc1d/data/part-00000-b0bc7c2c-3132-48bd-9771-14cd2fc15901-c000.snappy.parquet (deflated 35%)\n",
            "  adding: GBT_Reg_CV/bestModel/stages/07_StringIndexer_ee96c43adc1d/metadata/ (stored 0%)\n",
            "  adding: GBT_Reg_CV/bestModel/stages/07_StringIndexer_ee96c43adc1d/metadata/_SUCCESS (stored 0%)\n",
            "  adding: GBT_Reg_CV/bestModel/stages/07_StringIndexer_ee96c43adc1d/metadata/.part-00000.crc (stored 0%)\n",
            "  adding: GBT_Reg_CV/bestModel/stages/07_StringIndexer_ee96c43adc1d/metadata/._SUCCESS.crc (stored 0%)\n",
            "  adding: GBT_Reg_CV/bestModel/stages/07_StringIndexer_ee96c43adc1d/metadata/part-00000 (deflated 41%)\n",
            "  adding: GBT_Reg_CV/bestModel/stages/12_StringIndexer_352bd9bf7b62/ (stored 0%)\n",
            "  adding: GBT_Reg_CV/bestModel/stages/12_StringIndexer_352bd9bf7b62/data/ (stored 0%)\n",
            "  adding: GBT_Reg_CV/bestModel/stages/12_StringIndexer_352bd9bf7b62/data/_SUCCESS (stored 0%)\n",
            "  adding: GBT_Reg_CV/bestModel/stages/12_StringIndexer_352bd9bf7b62/data/.part-00000-cd7ee532-90f7-4d2d-aa4b-a2f27ffe2e3a-c000.snappy.parquet.crc (stored 0%)\n",
            "  adding: GBT_Reg_CV/bestModel/stages/12_StringIndexer_352bd9bf7b62/data/._SUCCESS.crc (stored 0%)\n",
            "  adding: GBT_Reg_CV/bestModel/stages/12_StringIndexer_352bd9bf7b62/data/part-00000-cd7ee532-90f7-4d2d-aa4b-a2f27ffe2e3a-c000.snappy.parquet (deflated 32%)\n",
            "  adding: GBT_Reg_CV/bestModel/stages/12_StringIndexer_352bd9bf7b62/metadata/ (stored 0%)\n",
            "  adding: GBT_Reg_CV/bestModel/stages/12_StringIndexer_352bd9bf7b62/metadata/_SUCCESS (stored 0%)\n",
            "  adding: GBT_Reg_CV/bestModel/stages/12_StringIndexer_352bd9bf7b62/metadata/.part-00000.crc (stored 0%)\n",
            "  adding: GBT_Reg_CV/bestModel/stages/12_StringIndexer_352bd9bf7b62/metadata/._SUCCESS.crc (stored 0%)\n",
            "  adding: GBT_Reg_CV/bestModel/stages/12_StringIndexer_352bd9bf7b62/metadata/part-00000 (deflated 39%)\n",
            "  adding: GBT_Reg_CV/bestModel/stages/06_StringIndexer_9521748df0ec/ (stored 0%)\n",
            "  adding: GBT_Reg_CV/bestModel/stages/06_StringIndexer_9521748df0ec/data/ (stored 0%)\n",
            "  adding: GBT_Reg_CV/bestModel/stages/06_StringIndexer_9521748df0ec/data/_SUCCESS (stored 0%)\n",
            "  adding: GBT_Reg_CV/bestModel/stages/06_StringIndexer_9521748df0ec/data/._SUCCESS.crc (stored 0%)\n",
            "  adding: GBT_Reg_CV/bestModel/stages/06_StringIndexer_9521748df0ec/data/part-00000-ca0c59f0-2042-47e6-bef2-6a8777d7059e-c000.snappy.parquet (deflated 31%)\n",
            "  adding: GBT_Reg_CV/bestModel/stages/06_StringIndexer_9521748df0ec/data/.part-00000-ca0c59f0-2042-47e6-bef2-6a8777d7059e-c000.snappy.parquet.crc (stored 0%)\n",
            "  adding: GBT_Reg_CV/bestModel/stages/06_StringIndexer_9521748df0ec/metadata/ (stored 0%)\n",
            "  adding: GBT_Reg_CV/bestModel/stages/06_StringIndexer_9521748df0ec/metadata/_SUCCESS (stored 0%)\n",
            "  adding: GBT_Reg_CV/bestModel/stages/06_StringIndexer_9521748df0ec/metadata/.part-00000.crc (stored 0%)\n",
            "  adding: GBT_Reg_CV/bestModel/stages/06_StringIndexer_9521748df0ec/metadata/._SUCCESS.crc (stored 0%)\n",
            "  adding: GBT_Reg_CV/bestModel/stages/06_StringIndexer_9521748df0ec/metadata/part-00000 (deflated 40%)\n",
            "  adding: GBT_Reg_CV/metadata/ (stored 0%)\n",
            "  adding: GBT_Reg_CV/metadata/_SUCCESS (stored 0%)\n",
            "  adding: GBT_Reg_CV/metadata/.part-00000.crc (stored 0%)\n",
            "  adding: GBT_Reg_CV/metadata/._SUCCESS.crc (stored 0%)\n",
            "  adding: GBT_Reg_CV/metadata/part-00000 (deflated 86%)\n"
          ]
        }
      ],
      "source": [
        "!zip -r GBT_Reg_CV.zip ./GBT_Reg_CV"
      ]
    },
    {
      "cell_type": "code",
      "execution_count": null,
      "metadata": {
        "id": "EJe545-h9-GU"
      },
      "outputs": [],
      "source": []
    }
  ],
  "metadata": {
    "colab": {
      "provenance": []
    },
    "kernelspec": {
      "display_name": "Python 3",
      "name": "python3"
    },
    "language_info": {
      "name": "python",
      "version": "3.10.12"
    }
  },
  "nbformat": 4,
  "nbformat_minor": 0
}
